{
 "cells": [
  {
   "cell_type": "markdown",
   "metadata": {},
   "source": [
    "# Everything you (n)ever wanted to know about SQuAD evaluation\n",
    "> A deep dive into computing QA predictions and evaluating a model on SQuAD2.0 \n",
    "\n",
    "- toc: true \n",
    "- badges: true\n",
    "- comments: true\n",
    "- permalink: /hidden/\n",
    "- hidden: true\n",
    "- search_exclude: false\n",
    "- categories: [PyTorch, Hugging Face, Wikipedia, BERT, Transformers]"
   ]
  },
  {
   "cell_type": "code",
   "execution_count": null,
   "metadata": {},
   "outputs": [],
   "source": [
    "- image: images/diagram.png"
   ]
  },
  {
   "cell_type": "markdown",
   "metadata": {},
   "source": [
    "\n",
    "### Prerequisites: \n",
    "(See our previous post XXX)\n",
    "* A basic understanding of Transformers and PyTorch\n",
    "* A Transformer fine-tuned on squad (preferably on squad2.0)\n",
    "* The SQuAD dev set\n",
    "\n",
    "### What you'll learn\n",
    "1. how to evaluate bert on squad\n",
    "2. metrics for evaluating qa \n",
    "3. How to handle the Null Response -- when a question doesn't have answer in the passage\n",
    "4. Implementing a more robust answering method for your QA system\n",
    "\n",
    "### Walk through the process:\n",
    "1. Overview of the squad 2.0 dev set\n",
    "2. Overview of the EM and F1 metrics\n",
    "3. Evaluating a model on the squad dev set and understanding the outputs\n",
    "    2. preds and nbest_preds\n",
    "    3. the null_odds json\n",
    "5. Using the null_odds json to determine the best null answer threshold\n",
    "    1. wait, what? \n",
    "    2. visualizing the null answer PR curve\n",
    "4. Implementing a more robust get_answer() method\n",
    "    1. checks to prevent impossible answers\n",
    "    2. finds one answer for examples that are parsed into multiple features\n",
    "    3. allows for null response\n"
   ]
  },
  {
   "cell_type": "code",
   "execution_count": 48,
   "metadata": {},
   "outputs": [],
   "source": [
    "import torch\n",
    "from transformers import AutoTokenizer, AutoModelForQuestionAnswering"
   ]
  },
  {
   "cell_type": "markdown",
   "metadata": {},
   "source": [
    "In our last post [Building a QA System with BERT on Wikipedia](https://qa.fastforwardlabs.com/pytorch/hugging%20face/wikipedia/bert/transformers/2020/05/19/Getting_Started_with_QA.html) we used the HuggingFace framework to train BERT on the SQuAD dataset and built a simple QA system on top of the Wikipedia search engine. This time, we'll look at the quality of BERT for Question Answering. We'll cover what metrics are used to quantify quality, how to evaluate BERT with the HuggingFace framework and how to incorporate the \"null response\" into your model for more realistic QA output. \n",
    "\n",
    "# Answering Questions is hard\n",
    "Quantifying the success of answering a question is a tricky task. When you or I ask a question, the correct answer could take multiple forms. Let's look at an example. \n",
    "\n",
    "In our previous post, BERT answered the question, \"Why is the sky blue?\" with \"Rayleigh scattering\" but another correct answer would be \n",
    "\n",
    "\"The Earth's atmosphere scatters short-wavelength light more efficiently than that of longer wavelengths. Because its wavelengths are shorter, blue light is more strongly scattered than the longer-wavelength lights, red or green. Hence the result that when looking at the sky away from the direct incident sunlight, the human eye perceives the sky to be blue.\" \n",
    "\n",
    "Both of these passages can be found in the Wikipedia article Diffuse Sky Radiation and both are correct but only one of these responses is returned as the answer.  \n",
    "\n",
    "\n",
    "**Need a different example** \n",
    "\n",
    "\n",
    "In order to determine whether BERT is correctly answering questions, we of course need a gold standard set of questions and answers! This is exactly what the SQuAD dataset provides. "
   ]
  },
  {
   "cell_type": "markdown",
   "metadata": {},
   "source": [
    "# More about SQuAD\n",
    "The SQuAD dataset comes in two flavors: SQuAD 1.1 and SQuAD 2.0. The latter contains the same questions and answers as the former but also includes additional questions that _cannot_ be answered by the accompanying passage. This is intended to provide a more realistic question answering task because often times there really won't be an answer to the question in the document we're parsing. This ability to properly identify when a question does not have an answer is much more challenging for Transformer models and it's why we focused on this dataset rather than SQuAD 1.1. \n",
    "\n",
    "SQuAD 2.0 consists of more than 130k questions, of which a full third do not have an answer that can be found in the associated passage. The dev set in particular contains a 50/50 split of answerable questions. SQuAD examples consist of questions + context pairs. The context is a single paragraph from a Wikipedia article. Each paragraph will have several questions (both answerable and unanswerable) associated with it. Paragraphs are drawn from 35 Wikipedia articles. Every paragraph in the article has at least one question associated with it.  The full SQuAD stats is shown below from the paper XXX. \n",
    "\n",
    "\n",
    "![](images/squad_datasets.png \"SQuAD Stats\")\n",
    "\n",
    "\n",
    "### Load the SQuAD 2.0 dev set using HF data processors\n",
    "\n",
    "HuggingFace provide the [Processors](https://huggingface.co/transformers/main_classes/processors.html) library for fascilitating basic processing tasks with some canonical NLP datasets. The processors can be used for loading datasets and converting their examples to features for direct use in the model. We'll be using the [SQuAD processors](https://huggingface.co/transformers/main_classes/processors.html#squad). "
   ]
  },
  {
   "cell_type": "code",
   "execution_count": 8,
   "metadata": {},
   "outputs": [],
   "source": [
    "# hide\n",
    "data_dir = \"/home/ryan/work/ff14/data/squad/\"\n",
    "dev_set_file = data_dir + \"dev-v2.0.json\""
   ]
  },
  {
   "cell_type": "code",
   "execution_count": 9,
   "metadata": {},
   "outputs": [
    {
     "name": "stderr",
     "output_type": "stream",
     "text": [
      "100%|██████████| 35/35 [00:05<00:00,  6.64it/s]\n"
     ]
    }
   ],
   "source": [
    "from transformers.data.processors.squad import SquadV2Processor\n",
    "\n",
    "processor = SquadV2Processor()\n",
    "examples = processor.get_dev_examples(data_dir, filename=dev_set_file)"
   ]
  },
  {
   "cell_type": "code",
   "execution_count": 11,
   "metadata": {},
   "outputs": [],
   "source": [
    "# generate some maps to help us identify examples of interest\n",
    "qid_to_example_index = {example.qas_id: i for i, example in enumerate(examples)}\n",
    "qid_to_has_answer = {example.qas_id: bool(example.answers) for example in examples}\n",
    "answer_qids = [qas_id for qas_id, has_answer in qid_to_has_answer.items() if has_answer]\n",
    "no_answer_qids = [qas_id for qas_id, has_answer in qid_to_has_answer.items() if not has_answer]"
   ]
  },
  {
   "cell_type": "code",
   "execution_count": 46,
   "metadata": {},
   "outputs": [],
   "source": [
    "def display_example(qid):    \n",
    "    idx = qid_to_example_index[qid]\n",
    "    q = examples[idx].question_text\n",
    "    c = examples[idx].context_text\n",
    "    a = [answer['text'] for answer in examples[idx].answers]\n",
    "    \n",
    "    print(f'Example {idx} of {len(examples)}\\n---------------------')\n",
    "    print(f\"Q: {q}\\n\")\n",
    "    print(f\"Context: \\n{c}\\n\")\n",
    "    print(f\"True Answers:\\n{a}\")"
   ]
  },
  {
   "cell_type": "markdown",
   "metadata": {},
   "source": [
    "#### A SQuAD example \n",
    "\n",
    "Approximately 50% of the examples in the dev set are questions that have answers contained within their corresponding passage. In these cases, up to five possible correct answers are provided (questions and answers were generated and identified by crowd-sourced workers). Answers must be direct excerpts from the passage but we can see there are several ways to have a \"correct\" answer. "
   ]
  },
  {
   "cell_type": "code",
   "execution_count": 44,
   "metadata": {},
   "outputs": [
    {
     "name": "stdout",
     "output_type": "stream",
     "text": [
      "Example 2548 of 11873\n",
      "---------------------\n",
      "Q: Where on Earth is free oxygen found?\n",
      "\n",
      "Context: \n",
      "Free oxygen also occurs in solution in the world's water bodies. The increased solubility of O\n",
      "2 at lower temperatures (see Physical properties) has important implications for ocean life, as polar oceans support a much higher density of life due to their higher oxygen content. Water polluted with plant nutrients such as nitrates or phosphates may stimulate growth of algae by a process called eutrophication and the decay of these organisms and other biomaterials may reduce amounts of O\n",
      "2 in eutrophic water bodies. Scientists assess this aspect of water quality by measuring the water's biochemical oxygen demand, or the amount of O\n",
      "2 needed to restore it to a normal concentration.\n",
      "\n",
      "True Answers:\n",
      "['water', \"in solution in the world's water bodies\", \"the world's water bodies\"]\n"
     ]
    }
   ],
   "source": [
    "display_example(answer_qids[1300])"
   ]
  },
  {
   "cell_type": "markdown",
   "metadata": {},
   "source": [
    "#### A SQuAD negative example\n",
    "\n",
    "The other half of the questions in dev set do not have an answer in the corresponding passage. These questions were generated by crowd-sourced workers to be related and relevant to the passage but unanswerable by that passage. There are thus no True Answers associated with these questions as we see in the example below. "
   ]
  },
  {
   "cell_type": "code",
   "execution_count": 45,
   "metadata": {},
   "outputs": [
    {
     "name": "stdout",
     "output_type": "stream",
     "text": [
      "Example 4954 of 11873\n",
      "---------------------\n",
      "Q: Why is the theory of evolution so complex?\n",
      "\n",
      "Context: \n",
      "The principle of faunal succession is based on the appearance of fossils in sedimentary rocks. As organisms exist at the same time period throughout the world, their presence or (sometimes) absence may be used to provide a relative age of the formations in which they are found. Based on principles laid out by William Smith almost a hundred years before the publication of Charles Darwin's theory of evolution, the principles of succession were developed independently of evolutionary thought. The principle becomes quite complex, however, given the uncertainties of fossilization, the localization of fossil types due to lateral changes in habitat (facies change in sedimentary strata), and that not all fossils may be found globally at the same time.\n",
      "\n",
      "True Answers:\n",
      "[]\n"
     ]
    }
   ],
   "source": [
    "display_example(no_answer_qids[2500])"
   ]
  },
  {
   "cell_type": "markdown",
   "metadata": {},
   "source": [
    "# Metrics for QA\n",
    "\n",
    "There are two dominant metrics used by many question answering datasets: exact match (EM) and F1 score. These scores are computed on individual question+answer pairs. When multiple correct answers are possible for a given question, the maximum score is computed. Scores over all examples are averaged providing a final EM and F1 score for the dev set. \n",
    "\n",
    "\n",
    "### Exact Match\n",
    "This metric is as simple as it sounds. For each question/answer pair, if the characters of the model's prediction exactly match the characters of the known answer, EM = 1, otherwise EM = 0. This is a strict all-or-nothing metric; being off by a single character would result in a score of 0 for that prediciton. When assessing against a negative example, if the model predicts any text at all it automatically receives a 0 for that example. \n",
    "\n",
    "### F1 \n",
    "This metric can be found in many analyses so it shouldn't be a surprise to see here. F1 is the harmonic mean of the precision and recall. In this case, it's computed over the individual words in the prediction against those in the true answer. The number of shared words provides the basis of the f1 score.\n",
    "\n",
    "\n",
    "![](images/f1score.png \"F1 score\")"
   ]
  },
  {
   "cell_type": "markdown",
   "metadata": {},
   "source": [
    "### Load a Transformer model fine-tuned on SQuAD 2.0"
   ]
  },
  {
   "cell_type": "code",
   "execution_count": 3,
   "metadata": {},
   "outputs": [],
   "source": [
    "tokenizer = AutoTokenizer.from_pretrained(\"twmkn9/distilbert-base-uncased-squad2\")\n",
    "model = AutoModelForQuestionAnswering.from_pretrained(\"twmkn9/distilbert-base-uncased-squad2\")"
   ]
  },
  {
   "cell_type": "code",
   "execution_count": 100,
   "metadata": {},
   "outputs": [],
   "source": [
    "def get_prediction(qid):\n",
    "    # given a question id (qas_id or qid), load the example, get the model outputs and generate an answer\n",
    "    question = examples[qid_to_example_index[qid]].question_text\n",
    "    context = examples[qid_to_example_index[qid]].context_text\n",
    "\n",
    "    inputs = tokenizer.encode_plus(question, context, return_tensors='pt')\n",
    "\n",
    "    outputs = model(**inputs)\n",
    "    answer_start = torch.argmax(outputs[0])  # Get the most likely beginning of answer with the argmax of the score\n",
    "    answer_end = torch.argmax(outputs[1]) + 1 \n",
    "\n",
    "    answer = tokenizer.convert_tokens_to_string(tokenizer.convert_ids_to_tokens(inputs['input_ids'][0][answer_start:answer_end]))\n",
    "\n",
    "    return answer"
   ]
  },
  {
   "cell_type": "markdown",
   "metadata": {},
   "source": [
    "We can soften the blow of the Exact Match metric by normalizing the text before computation. Removing articles and punctuation, and standardizing whitespace are all typical text processing steps. "
   ]
  },
  {
   "cell_type": "code",
   "execution_count": 98,
   "metadata": {},
   "outputs": [],
   "source": [
    "# These functions are heavily influenced by the HF squad_metrics.py script\n",
    "def normalize_text(s):\n",
    "    import string, re\n",
    "    \"\"\"Lower text and remove punctuation, articles and extra whitespace.\"\"\"\n",
    "\n",
    "    def remove_articles(text):\n",
    "        regex = re.compile(r\"\\b(a|an|the)\\b\", re.UNICODE)\n",
    "        return re.sub(regex, \" \", text)\n",
    "\n",
    "    def white_space_fix(text):\n",
    "        return \" \".join(text.split())\n",
    "\n",
    "    def remove_punc(text):\n",
    "        exclude = set(string.punctuation)\n",
    "        return \"\".join(ch for ch in text if ch not in exclude)\n",
    "\n",
    "    def lower(text):\n",
    "        return text.lower()\n",
    "\n",
    "    return white_space_fix(remove_articles(remove_punc(lower(s))))\n",
    "\n",
    "def compute_exact_match(prediction, truth):\n",
    "    return int(normalize_text(prediction) == normalize_text(truth))\n",
    "\n",
    "def compute_f1(prediction, truth):\n",
    "    pred_tokens = normalize_text(prediction).split()\n",
    "    truth_tokens = normalize_text(truth).split()\n",
    "    \n",
    "    # if either the prediction or the truth is no-answer then f1 = 1 if they agree, 0 otherwise\n",
    "    if len(pred_tokens) == 0 or len(truth_tokens) == 0:\n",
    "        return int(pred_tokens == truth_tokens)\n",
    "    \n",
    "    common_tokens = set(pred_tokens) & set(truth_tokens)\n",
    "    \n",
    "    # if there are no common tokens then f1 = 0\n",
    "    if len(common_tokens) == 0:\n",
    "        return 0\n",
    "    \n",
    "    prec = len(common_tokens) / len(pred_tokens)\n",
    "    rec = len(common_tokens) / len(truth_tokens)\n",
    "    \n",
    "    return 2 * (prec * rec) / (prec + rec)\n",
    "    \n",
    "def get_gold_answers(example):\n",
    "    gold_answers = [answer[\"text\"] for answer in example.answers if answer[\"text\"]]\n",
    "\n",
    "    # if gold_answers doesn't exist it's because this is a negative example - \n",
    "    # the only correct answer is an empty string\n",
    "    if not gold_answers:\n",
    "        gold_answers = [\"\"]\n",
    "        \n",
    "    return gold_answers"
   ]
  },
  {
   "cell_type": "code",
   "execution_count": 96,
   "metadata": {},
   "outputs": [
    {
     "name": "stdout",
     "output_type": "stream",
     "text": [
      "0 0.8\n"
     ]
    }
   ],
   "source": [
    "prediction = get_answer_from_qid(answer_qids[1300])\n",
    "example = examples[qid_to_example_index[answer_qids[1300]]]\n",
    "\n",
    "gold_answers = get_gold_answers(example)\n",
    "\n",
    "em_score = max((compute_exact_match(prediction, answer)) for answer in gold_answers)\n",
    "f1_score = max((compute_f1(prediction, answer)) for answer in gold_answers)\n",
    "\n",
    "print(em_score, f1_score)"
   ]
  },
  {
   "cell_type": "code",
   "execution_count": 97,
   "metadata": {},
   "outputs": [
    {
     "name": "stdout",
     "output_type": "stream",
     "text": [
      "0 0\n"
     ]
    }
   ],
   "source": [
    "prediction = get_answer_from_qid(no_answer_qids[2500])\n",
    "example = examples[qid_to_example_index[no_answer_qids[2500]]]\n",
    "\n",
    "gold_answers = get_gold_answers(example)\n",
    "\n",
    "em_score = max((compute_exact_match(prediction, answer)) for answer in gold_answers)\n",
    "f1_score = max((compute_f1(prediction, answer)) for answer in gold_answers)\n",
    "\n",
    "print(em_score, f1_score)"
   ]
  },
  {
   "cell_type": "markdown",
   "metadata": {},
   "source": [
    "# Evaluating a model on the squad dev set\n",
    "\n",
    "The same `run_squad.py` script we used to fine-tune a Transformer for question answering can also be used to evaluate the model! Below are the arguments you'll need to properly evaluate a fine-tuned model for question answering on the SQuAD dev set. Because we using SQuAD 2.0 it is **crucial** that you include the `--version_2_with_negative` flag!"
   ]
  },
  {
   "cell_type": "code",
   "execution_count": 103,
   "metadata": {},
   "outputs": [
    {
     "name": "stdout",
     "output_type": "stream",
     "text": [
      "2020-06-02 19:14:41.314546: W tensorflow/stream_executor/platform/default/dso_loader.cc:55] Could not load dynamic library 'libnvinfer.so.6'; dlerror: libnvinfer.so.6: cannot open shared object file: No such file or directory; LD_LIBRARY_PATH: /usr/local/cuda/lib64:\n",
      "2020-06-02 19:14:41.314635: W tensorflow/stream_executor/platform/default/dso_loader.cc:55] Could not load dynamic library 'libnvinfer_plugin.so.6'; dlerror: libnvinfer_plugin.so.6: cannot open shared object file: No such file or directory; LD_LIBRARY_PATH: /usr/local/cuda/lib64:\n",
      "2020-06-02 19:14:41.314648: W tensorflow/compiler/tf2tensorrt/utils/py_utils.cc:30] Cannot dlopen some TensorRT libraries. If you would like to use Nvidia GPU with TensorRT, please make sure the missing libraries mentioned above are installed properly.\n",
      "06/02/2020 19:14:42 - WARNING - __main__ -   Process rank: -1, device: cuda, n_gpu: 1, distributed training: False, 16-bits training: False\n",
      "06/02/2020 19:14:42 - INFO - transformers.configuration_utils -   loading configuration file https://s3.amazonaws.com/models.huggingface.co/bert/twmkn9/distilbert-base-uncased-squad2/config.json from cache at /home/melanie/.cache/torch/transformers/a3920afc5879111d09b0c1e74e7e674b82a7cd96109c2094b1abd8e57f50a126.eba6ca264db629858c65c1b534a0393d738537aad02120c2ac4fa8dd94820d0b\n",
      "06/02/2020 19:14:42 - INFO - transformers.configuration_utils -   Model config DistilBertConfig {\n",
      "  \"_num_labels\": 2,\n",
      "  \"activation\": \"gelu\",\n",
      "  \"architectures\": [\n",
      "    \"DistilBertForQuestionAnswering\"\n",
      "  ],\n",
      "  \"attention_dropout\": 0.1,\n",
      "  \"bad_words_ids\": null,\n",
      "  \"bos_token_id\": null,\n",
      "  \"decoder_start_token_id\": null,\n",
      "  \"dim\": 768,\n",
      "  \"do_sample\": false,\n",
      "  \"dropout\": 0.1,\n",
      "  \"early_stopping\": false,\n",
      "  \"eos_token_id\": null,\n",
      "  \"eos_token_ids\": null,\n",
      "  \"finetuning_task\": null,\n",
      "  \"hidden_dim\": 3072,\n",
      "  \"id2label\": {\n",
      "    \"0\": \"LABEL_0\",\n",
      "    \"1\": \"LABEL_1\"\n",
      "  },\n",
      "  \"initializer_range\": 0.02,\n",
      "  \"is_decoder\": false,\n",
      "  \"is_encoder_decoder\": false,\n",
      "  \"label2id\": {\n",
      "    \"LABEL_0\": 0,\n",
      "    \"LABEL_1\": 1\n",
      "  },\n",
      "  \"length_penalty\": 1.0,\n",
      "  \"max_length\": 20,\n",
      "  \"max_position_embeddings\": 512,\n",
      "  \"min_length\": 0,\n",
      "  \"model_type\": \"distilbert\",\n",
      "  \"n_heads\": 12,\n",
      "  \"n_layers\": 6,\n",
      "  \"no_repeat_ngram_size\": 0,\n",
      "  \"num_beams\": 1,\n",
      "  \"num_return_sequences\": 1,\n",
      "  \"output_attentions\": false,\n",
      "  \"output_hidden_states\": false,\n",
      "  \"output_past\": true,\n",
      "  \"pad_token_id\": 0,\n",
      "  \"prefix\": null,\n",
      "  \"pruned_heads\": {},\n",
      "  \"qa_dropout\": 0.1,\n",
      "  \"repetition_penalty\": 1.0,\n",
      "  \"seq_classif_dropout\": 0.2,\n",
      "  \"sinusoidal_pos_embds\": false,\n",
      "  \"task_specific_params\": null,\n",
      "  \"temperature\": 1.0,\n",
      "  \"tie_weights_\": true,\n",
      "  \"top_k\": 50,\n",
      "  \"top_p\": 1.0,\n",
      "  \"torchscript\": false,\n",
      "  \"use_bfloat16\": false,\n",
      "  \"vocab_size\": 30522,\n",
      "  \"xla_device\": null\n",
      "}\n",
      "\n",
      "06/02/2020 19:14:42 - INFO - transformers.tokenization_utils -   Model name 'twmkn9/distilbert-base-uncased-squad2' not found in model shortcut name list (distilbert-base-uncased, distilbert-base-uncased-distilled-squad, distilbert-base-cased, distilbert-base-cased-distilled-squad, distilbert-base-german-cased, distilbert-base-multilingual-cased). Assuming 'twmkn9/distilbert-base-uncased-squad2' is a path, a model identifier, or url to a directory containing tokenizer files.\n",
      "06/02/2020 19:14:43 - INFO - transformers.tokenization_utils -   loading file https://s3.amazonaws.com/models.huggingface.co/bert/twmkn9/distilbert-base-uncased-squad2/vocab.txt from cache at /home/melanie/.cache/torch/transformers/a6078a0000db15a7f37a4c934bf07641f2ce917d7e6d19e8250b7b087948d0bb.542ce4285a40d23a559526243235df47c5f75c197f04f37d1a0c124c32c9a084\n",
      "06/02/2020 19:14:43 - INFO - transformers.tokenization_utils -   loading file https://s3.amazonaws.com/models.huggingface.co/bert/twmkn9/distilbert-base-uncased-squad2/added_tokens.json from cache at None\n",
      "06/02/2020 19:14:43 - INFO - transformers.tokenization_utils -   loading file https://s3.amazonaws.com/models.huggingface.co/bert/twmkn9/distilbert-base-uncased-squad2/special_tokens_map.json from cache at /home/melanie/.cache/torch/transformers/112632b7c7669e4ebb3bbda33d84526efe839633b66db00007aa1e616521262f.275045728fbf41c11d3dae08b8742c054377e18d92cc7b72b6351152a99b64e4\n",
      "06/02/2020 19:14:43 - INFO - transformers.tokenization_utils -   loading file https://s3.amazonaws.com/models.huggingface.co/bert/twmkn9/distilbert-base-uncased-squad2/tokenizer_config.json from cache at /home/melanie/.cache/torch/transformers/ff910ad3f01a29bfc80c754346974acfe80b3ec108facc01c68a5b86f282bdf0.071a6c67df33940f411dddb070d8c2e69b425ca06b9d813035dae545ab90c616\n",
      "06/02/2020 19:14:43 - INFO - transformers.modeling_utils -   loading weights file https://s3.amazonaws.com/models.huggingface.co/bert/twmkn9/distilbert-base-uncased-squad2/pytorch_model.bin from cache at /home/melanie/.cache/torch/transformers/3d3d52586249e1f364d8f19dd13d14226dffdeaa18bb3ff1625bd5389db027b0.a9ad8185141adee62a5e0039ff540a444c26257146ac66a7ce69b7ec018b7a7c\n",
      "06/02/2020 19:14:48 - INFO - __main__ -   Training/evaluation parameters Namespace(adam_epsilon=1e-08, cache_dir='', config_name='', data_dir='data/squad', device=device(type='cuda'), do_eval=True, do_lower_case=True, do_train=False, doc_stride=128, eval_all_checkpoints=False, evaluate_during_training=False, fp16=False, fp16_opt_level='O1', gradient_accumulation_steps=1, lang_id=0, learning_rate=5e-05, local_rank=-1, logging_steps=500, max_answer_length=30, max_grad_norm=1.0, max_query_length=64, max_seq_length=384, max_steps=-1, model_name_or_path='twmkn9/distilbert-base-uncased-squad2', model_type='distilbert', n_best_size=20, n_gpu=1, no_cuda=False, null_score_diff_threshold=0.0, num_train_epochs=3.0, output_dir='models/distilbert/twmkn9_distilbert-base-uncased-squad2', overwrite_cache=False, overwrite_output_dir=False, per_gpu_eval_batch_size=12, per_gpu_train_batch_size=8, predict_file='dev-v2.0.json', save_steps=500, seed=42, server_ip='', server_port='', threads=1, tokenizer_name='', train_file=None, verbose_logging=False, version_2_with_negative=True, warmup_steps=0, weight_decay=0.0)\n",
      "06/02/2020 19:14:48 - INFO - __main__ -   Loading checkpoint twmkn9/distilbert-base-uncased-squad2 for evaluation\n",
      "06/02/2020 19:14:48 - INFO - __main__ -   Evaluate the following checkpoints: ['twmkn9/distilbert-base-uncased-squad2']\n",
      "06/02/2020 19:14:48 - INFO - transformers.configuration_utils -   loading configuration file https://s3.amazonaws.com/models.huggingface.co/bert/twmkn9/distilbert-base-uncased-squad2/config.json from cache at /home/melanie/.cache/torch/transformers/a3920afc5879111d09b0c1e74e7e674b82a7cd96109c2094b1abd8e57f50a126.eba6ca264db629858c65c1b534a0393d738537aad02120c2ac4fa8dd94820d0b\n",
      "06/02/2020 19:14:48 - INFO - transformers.configuration_utils -   Model config DistilBertConfig {\n",
      "  \"_num_labels\": 2,\n",
      "  \"activation\": \"gelu\",\n",
      "  \"architectures\": [\n",
      "    \"DistilBertForQuestionAnswering\"\n",
      "  ],\n",
      "  \"attention_dropout\": 0.1,\n",
      "  \"bad_words_ids\": null,\n",
      "  \"bos_token_id\": null,\n",
      "  \"decoder_start_token_id\": null,\n",
      "  \"dim\": 768,\n",
      "  \"do_sample\": false,\n",
      "  \"dropout\": 0.1,\n",
      "  \"early_stopping\": false,\n",
      "  \"eos_token_id\": null,\n",
      "  \"eos_token_ids\": null,\n",
      "  \"finetuning_task\": null,\n",
      "  \"hidden_dim\": 3072,\n",
      "  \"id2label\": {\n",
      "    \"0\": \"LABEL_0\",\n",
      "    \"1\": \"LABEL_1\"\n",
      "  },\n",
      "  \"initializer_range\": 0.02,\n",
      "  \"is_decoder\": false,\n",
      "  \"is_encoder_decoder\": false,\n",
      "  \"label2id\": {\n",
      "    \"LABEL_0\": 0,\n",
      "    \"LABEL_1\": 1\n",
      "  },\n",
      "  \"length_penalty\": 1.0,\n",
      "  \"max_length\": 20,\n",
      "  \"max_position_embeddings\": 512,\n",
      "  \"min_length\": 0,\n",
      "  \"model_type\": \"distilbert\",\n",
      "  \"n_heads\": 12,\n",
      "  \"n_layers\": 6,\n",
      "  \"no_repeat_ngram_size\": 0,\n",
      "  \"num_beams\": 1,\n",
      "  \"num_return_sequences\": 1,\n",
      "  \"output_attentions\": false,\n",
      "  \"output_hidden_states\": false,\n",
      "  \"output_past\": true,\n",
      "  \"pad_token_id\": 0,\n",
      "  \"prefix\": null,\n",
      "  \"pruned_heads\": {},\n",
      "  \"qa_dropout\": 0.1,\n",
      "  \"repetition_penalty\": 1.0,\n",
      "  \"seq_classif_dropout\": 0.2,\n",
      "  \"sinusoidal_pos_embds\": false,\n",
      "  \"task_specific_params\": null,\n",
      "  \"temperature\": 1.0,\n",
      "  \"tie_weights_\": true,\n",
      "  \"top_k\": 50,\n",
      "  \"top_p\": 1.0,\n",
      "  \"torchscript\": false,\n",
      "  \"use_bfloat16\": false,\n",
      "  \"vocab_size\": 30522,\n",
      "  \"xla_device\": null\n",
      "}\n",
      "\n",
      "06/02/2020 19:14:49 - INFO - transformers.modeling_utils -   loading weights file https://s3.amazonaws.com/models.huggingface.co/bert/twmkn9/distilbert-base-uncased-squad2/pytorch_model.bin from cache at /home/melanie/.cache/torch/transformers/3d3d52586249e1f364d8f19dd13d14226dffdeaa18bb3ff1625bd5389db027b0.a9ad8185141adee62a5e0039ff540a444c26257146ac66a7ce69b7ec018b7a7c\n"
     ]
    },
    {
     "name": "stdout",
     "output_type": "stream",
     "text": [
      "06/02/2020 19:14:50 - INFO - __main__ -   Creating features from dataset file at data/squad\n",
      "100%|███████████████████████████████████████████| 35/35 [00:05<00:00,  6.54it/s]\n",
      "convert squad examples to features: 100%|█| 11873/11873 [02:02<00:00, 97.08it/s]\n",
      "add example index and unique id: 100%|█| 11873/11873 [00:00<00:00, 461404.92it/s\n",
      "06/02/2020 19:16:59 - INFO - __main__ -   Saving features into cached file data/squad/cached_dev_distilbert-base-uncased-squad2_384\n",
      "06/02/2020 19:17:20 - INFO - __main__ -   ***** Running evaluation  *****\n",
      "06/02/2020 19:17:20 - INFO - __main__ -     Num examples = 12232\n",
      "06/02/2020 19:17:20 - INFO - __main__ -     Batch size = 12\n",
      "Evaluating: 100%|███████████████████████████| 1020/1020 [02:23<00:00,  7.13it/s]\n",
      "06/02/2020 19:19:43 - INFO - __main__ -     Evaluation done in total 143.126918 secs (0.011701 sec per example)\n",
      "06/02/2020 19:19:43 - INFO - transformers.data.metrics.squad_metrics -   Writing predictions to: models/distilbert/twmkn9_distilbert-base-uncased-squad2/predictions_.json\n",
      "06/02/2020 19:19:43 - INFO - transformers.data.metrics.squad_metrics -   Writing nbest to: models/distilbert/twmkn9_distilbert-base-uncased-squad2/nbest_predictions_.json\n",
      "06/02/2020 19:20:46 - INFO - __main__ -   Results: {'exact': 66.25958056093658, 'f1': 69.66994428499025, 'total': 11873, 'HasAns_exact': 68.91025641025641, 'HasAns_f1': 75.74076391627662, 'HasAns_total': 5928, 'NoAns_exact': 63.61648444070648, 'NoAns_f1': 63.61648444070648, 'NoAns_total': 5945, 'best_exact': 66.25958056093658, 'best_exact_thresh': 0.0, 'best_f1': 69.66994428499046, 'best_f1_thresh': 0.0}\n"
     ]
    }
   ],
   "source": [
    "!python run_squad.py  \\\n",
    "    --model_type distilbert   \\\n",
    "    --model_name_or_path twmkn9/distilbert-base-uncased-squad2  \\\n",
    "    --output_dir models/distilbert/twmkn9_distilbert-base-uncased-squad2 \\\n",
    "    --data_dir data/squad   \\\n",
    "    --predict_file dev-v2.0.json   \\\n",
    "    --do_eval   \\\n",
    "    --version_2_with_negative \\\n",
    "    --do_lower_case  \\\n",
    "    --per_gpu_eval_batch_size 12   \\\n",
    "    --max_seq_length 384   \\\n",
    "    --doc_stride 128\n"
   ]
  },
  {
   "cell_type": "markdown",
   "metadata": {},
   "source": [
    "We've evaluated a `distilbert` model that was fine-tuned on SQuAD2.0 by a member of the NLP community. When running the evaluation we see a number of steps performed: \n",
    "\n",
    "1. the dev set is loaded from disk \n",
    "2. the examples are converted to features that can be directly fed to the model\n",
    "3. these features are cached to disk\n",
    "4. Evaluation proceeds in batches of 12 and finishes in about 2.5 minutes (this is because distilBERT is much faster and more lightweight than BERT)\n",
    "5. a slew of prediction outputs are written to disk\n",
    "6. Overall model results are displayed\n",
    "\n",
    "Let's start with the overall model results. "
   ]
  },
  {
   "cell_type": "code",
   "execution_count": 105,
   "metadata": {},
   "outputs": [],
   "source": [
    "Results = {\n",
    "    # Scores averaged over all examples in the dev set\n",
    "    'exact': 66.25958056093658,         \n",
    "    'f1': 69.66994428499025,            \n",
    "    'total': 11873,  # number of examples in the dev set\n",
    "    \n",
    "    # Scores averaged over only positive examples (have answers)\n",
    "    'HasAns_exact': 68.91025641025641,  \n",
    "    'HasAns_f1': 75.74076391627662,     \n",
    "    'HasAns_total': 5928, # number of positive examples\n",
    "    \n",
    "    # Scores averaged over only negative examples (no answers)\n",
    "    'NoAns_exact': 63.61648444070648, \n",
    "    'NoAns_f1': 63.61648444070648, \n",
    "    'NoAns_total': 5945, # number of negative examples\n",
    "    \n",
    "    # ***Given probabilities of no-answer for each example, what would the best scores and thresholds be? ***\n",
    "    'best_exact': 66.25958056093658, \n",
    "    'best_exact_thresh': 0.0, \n",
    "    'best_f1': 69.66994428499046, \n",
    "    'best_f1_thresh': 0.0\n",
    "}"
   ]
  },
  {
   "cell_type": "markdown",
   "metadata": {},
   "source": [
    "The first three blocks of the `Results` output are pretty straightforward. EM and F1 scores are reported over the full dev set, the set of positive examples, and the set of negative examples. This can give you some insight into whether your model is performing adequately on both answer and no-answer questions (this particular model is pretty bad at no-answer questions). \n",
    "\n",
    "However, what's going on with that fourth block? This portion of the output is not useful unless you supply the evaluation with additional information. And for that we'll need to dig a bit deeper into the evaluation process. \n",
    "\n",
    "\n",
    "### Computing predictions\n",
    "When the tokenized question+context is passed to the model, the output consists of two sets of logits: one for the start of the answer span, the other for the end of the answer span. These logits represent the likelihood of any given token being the start or end of the answer. Every token passed to the model is assigned a logit, including special tokens (e.g, [CLS], [SEP]), and tokens corresponding to the question itself.  "
   ]
  },
  {
   "cell_type": "code",
   "execution_count": 121,
   "metadata": {},
   "outputs": [],
   "source": [
    "inputs = tokenizer.encode_plus(example.question_text, example.context_text, return_tensors='pt')\n",
    "start_logits, end_logits = model(**inputs)"
   ]
  },
  {
   "cell_type": "code",
   "execution_count": 133,
   "metadata": {},
   "outputs": [
    {
     "data": {
      "text/plain": [
       "tensor([[  3.7929,  -9.1130,  -9.6885,  -7.7843,  -8.2340, -10.3993,  -9.6347,\n",
       "          -9.7876,  -9.9708,  -9.9662,  -8.7785,  -3.9508,  -5.5454,  -9.6513,\n",
       "          -4.6236,  -9.8807,  -7.4872,  -8.7846,  -6.8423,  -8.9985,  -6.0774,\n",
       "          -5.4852,  -9.7361,  -4.5017,  -9.2640,  -5.3205,  -7.2865,  -8.4630,\n",
       "          -5.2088,  -4.2374,  -8.6602,  -9.9352,  -9.4512, -10.2235,  -9.5926,\n",
       "         -10.6912, -10.3315, -10.6619,  -9.3309,  -9.5508,  -4.9999,  -6.2900,\n",
       "         -10.5532,  -9.6481,  -9.9048, -10.9416,  -5.4683,  -9.1218, -10.2717,\n",
       "          -9.9383,  -7.1546,  -7.1813,  -7.5937,  -6.7924,  -8.4716, -10.7609,\n",
       "          -9.9768,  -9.2098,  -9.6693, -11.1971, -10.4625, -11.2761,  -8.7499,\n",
       "          -8.4402,  -4.4782,  -8.3395,  -5.5925,  -9.0272, -10.4382, -10.0390,\n",
       "          -7.3458,  -9.6450,  -8.6492,  -9.4535,  -9.6644, -10.3202,  -9.7984,\n",
       "          -8.6443,  -9.0967,  -9.9739,  -6.8935,  -9.6771, -10.1303,  -9.9340,\n",
       "          -8.6770, -10.0878,  -8.4293,  -7.1896,  -2.5745,  -4.5659,  -9.6147,\n",
       "          -6.0050,  -6.9271,  -7.7112,  -5.7470, -10.3048,  -6.4189,  -7.5704,\n",
       "          -7.0742,  -2.5894,  -5.3958,  -7.9872,  -7.1073,  -5.6698,  -5.0910,\n",
       "          -6.4828,  -3.3321,   5.7303,   5.2198,   6.3693,  -3.1278,  -6.2212,\n",
       "           2.2868,  -3.8247,  -2.5946,   4.9523,   3.4599,  -3.7496,  -6.2692,\n",
       "          -0.4519,  -4.1322,   0.9551,  -4.4014,   2.4303,  -1.8346,  -5.5038,\n",
       "          -3.2300,  -5.0857,  -1.5053,  -9.6386,  -5.7745,  -9.3498,  -6.2898,\n",
       "          -6.2146,  -4.9307,  -4.8388,  -4.4953,  -1.7197,  -2.3445,  -8.5993,\n",
       "          -5.6596,  -9.6108, -10.8523,  -9.9367,  -7.6639, -10.1629, -10.0598,\n",
       "         -10.7275,  -8.3669,  -4.5888,  -8.7782]], grad_fn=<SqueezeBackward1>)"
      ]
     },
     "execution_count": 133,
     "metadata": {},
     "output_type": "execute_result"
    }
   ],
   "source": [
    "# Look at how large the logit is in the [CLS] position!  Strong possibility that this question has no answer... \n",
    "start_logits"
   ]
  },
  {
   "cell_type": "markdown",
   "metadata": {},
   "source": [
    "In our simple QA system, we predicted the best answer by selecting the start and end tokens with the largest logits, but that's not very robust. In practice, these logits are passed to a method that computes prediction scores. Tokens corresponding to the _n_ largest start_logits and the _n_ largest end_logits are selected as candidates. Any sensible combination of these start + end tokens is considered a candidate answer, however, several consistency checks must first be performed. For example, an answer wherein the end token falls _before_ the start token should be excluded because that just doesn't amke sense, even if these tokens were associated with the largest logits. Candidate answers wherein the start or end tokens are associated with question tokens are also excluded because the answer to the question should obviously not be in the question itself! It is important to note that the [CLS] token is **not** removed because this token indicates the null answer. "
   ]
  },
  {
   "cell_type": "code",
   "execution_count": 159,
   "metadata": {
    "scrolled": true
   },
   "outputs": [
    {
     "name": "stdout",
     "output_type": "stream",
     "text": [
      "[(109, 6.369344711303711), (107, 5.730345249176025), (108, 5.2197771072387695), (115, 4.952322483062744), (0, 3.792943000793457)]\n",
      "[(113, 6.066335201263428), (126, 4.7193193435668945), (120, 4.3211588859558105), (134, 4.181004524230957), (0, 3.5367705821990967)]\n"
     ]
    }
   ],
   "source": [
    "# We can sort our list of start_logits by logit score and keep track of which token they're associated with\n",
    "def to_list(tensor):\n",
    "    return tensor.detach().cpu().tolist()\n",
    "\n",
    "start_logits = to_list(start_logits)[0]\n",
    "end_logits = to_list(end_logits)[0]\n",
    "\n",
    "start_idx_and_logit = sorted(enumerate(start_logits), key=lambda x: x[1], reverse=True)\n",
    "end_idx_and_logit = sorted(enumerate(end_logits), key=lambda x: x[1], reverse=True)\n",
    "\n",
    "\n",
    "# The null answer token index (0) is in the top five, along with some other possible answer-start context tokens\n",
    "print(start_idx_and_logit[:5])\n",
    "print(end_idx_and_logit[:5]) "
   ]
  },
  {
   "cell_type": "code",
   "execution_count": 155,
   "metadata": {},
   "outputs": [
    {
     "data": {
      "text/plain": [
       "[1, 2, 3, 4, 5, 6, 7, 8, 9]"
      ]
     },
     "execution_count": 155,
     "metadata": {},
     "output_type": "execute_result"
    }
   ],
   "source": [
    "start_indexes = [idx for idx, logit in start_idx_and_logit[:5]]\n",
    "end_indexes = [idx for idx, logit in end_idx_and_logit[:5]]\n",
    "\n",
    "tokens = to_list(inputs['input_ids'])[0]\n",
    "# question tokens are defined as those between the CLS token (101, at position 0) and first SEP (102) token \n",
    "question_indexes = [i+1 for i, token in enumerate(tokens[1:tokens.index(102)])]\n",
    "question_indexes"
   ]
  },
  {
   "cell_type": "code",
   "execution_count": 170,
   "metadata": {},
   "outputs": [],
   "source": [
    "import collections\n",
    "\n",
    "# keep track of all preliminary predictions\n",
    "PrelimPrediction = collections.namedtuple(  # pylint: disable=invalid-name\n",
    "    \"PrelimPrediction\", [\"start_index\", \"end_index\", \"start_logit\", \"end_logit\"]\n",
    ")\n",
    "\n",
    "prelim_preds = []\n",
    "for start_index in start_indexes:\n",
    "    for end_index in end_indexes:\n",
    "        # throw out invalid predictions\n",
    "        if start_index in question_indexes:\n",
    "            continue\n",
    "        if end_index in question_indexes:\n",
    "            continue\n",
    "        if end_index < start_index:\n",
    "            continue\n",
    "        prelim_preds.append(\n",
    "            PrelimPrediction(\n",
    "                start_index = start_index,\n",
    "                end_index = end_index,\n",
    "                start_logit = start_logits[start_index],\n",
    "                end_logit = end_logits[end_index]\n",
    "            )\n",
    "        )"
   ]
  },
  {
   "cell_type": "markdown",
   "metadata": {},
   "source": [
    "Prediction scores are computed on the remaining answer candidates' start and end tokens as the sum of their start and end logits. For a candidate answer i, score_i = start_logit_i + end_logit_i. The `n_best` candidate answers with the highest scores are retained (this number can be set using the `--n_best_size` flag of `run_squad.py` and defaults to 20). If the list of candidate answers does not contain the prediction score for the null answer, it is computed and added. The null answer score is computed as the sum of the logits corresponding to the [CLS] token in both the start_logits and end_logits lists. "
   ]
  },
  {
   "cell_type": "code",
   "execution_count": 218,
   "metadata": {},
   "outputs": [
    {
     "data": {
      "text/plain": [
       "20"
      ]
     },
     "execution_count": 218,
     "metadata": {},
     "output_type": "execute_result"
    }
   ],
   "source": [
    "# sort preliminary predictions by their score\n",
    "prelim_preds = sorted(prelim_preds, key=lambda x: (x.start_logit + x.end_logit), reverse=True)\n",
    "len(prelim_preds)"
   ]
  },
  {
   "cell_type": "code",
   "execution_count": 219,
   "metadata": {},
   "outputs": [],
   "source": [
    "tokens = to_list(inputs['input_ids'])[0]\n",
    "\n",
    "# keep track of all best predictions\n",
    "BestPrediction = collections.namedtuple(  # pylint: disable=invalid-name\n",
    "    \"BestPrediction\", [\"text\", \"start_logit\", \"end_logit\"]\n",
    ")\n",
    "\n",
    "nbest = []\n",
    "seen_predictions = []\n",
    "for pred in prelim_preds:\n",
    "    if pred.start_index > 0: # non-null answers have start_index > 0\n",
    "\n",
    "        text = tokenizer.convert_tokens_to_string(\n",
    "            tokenizer.convert_ids_to_tokens(\n",
    "                tokens[pred.start_index:pred.end_index]\n",
    "            )\n",
    "        )\n",
    "        # Clean whitespace\n",
    "        text = text.strip()\n",
    "        text = \" \".join(text.split())\n",
    "\n",
    "    if text in seen_predictions:\n",
    "        continue\n",
    "    \n",
    "    seen_predictions.append(text)    \n",
    "    nbest.append(BestPrediction(text=text, start_logit=pred.start_logit, end_logit=pred.end_logit))\n",
    "\n",
    "# include the null answer\n",
    "nbest.append(BestPrediction(text=\"\", start_logit=start_logits[0], end_logit=end_logits[0]))\n"
   ]
  },
  {
   "cell_type": "markdown",
   "metadata": {},
   "source": [
    "These top _n_ best answers are computed and a null answer score is computed.  The list of `n_best` answers for each question is saved to disk as `nbest_predictions_.json`."
   ]
  },
  {
   "cell_type": "code",
   "execution_count": 222,
   "metadata": {},
   "outputs": [
    {
     "data": {
      "text/plain": [
       "[BestPrediction(text='uncertainties of fossil', start_logit=6.369344711303711, end_logit=6.066335201263428),\n",
       " BestPrediction(text='given the uncertainties of fossil', start_logit=5.730345249176025, end_logit=6.066335201263428),\n",
       " BestPrediction(text='the uncertainties of fossil', start_logit=5.2197771072387695, end_logit=6.066335201263428),\n",
       " BestPrediction(text='uncertainties of fossilization , the localization of fossil types due to lateral changes in', start_logit=6.369344711303711, end_logit=4.7193193435668945),\n",
       " BestPrediction(text='uncertainties of fossilization , the localization of fossil', start_logit=6.369344711303711, end_logit=4.3211588859558105),\n",
       " BestPrediction(text='uncertainties of fossilization , the localization of fossil types due to lateral changes in habitat ( facies change in sedimentary strata', start_logit=6.369344711303711, end_logit=4.181004524230957),\n",
       " BestPrediction(text='given the uncertainties of fossilization , the localization of fossil types due to lateral changes in', start_logit=5.730345249176025, end_logit=4.7193193435668945),\n",
       " BestPrediction(text='given the uncertainties of fossilization , the localization of fossil', start_logit=5.730345249176025, end_logit=4.3211588859558105),\n",
       " BestPrediction(text='the uncertainties of fossilization , the localization of fossil types due to lateral changes in', start_logit=5.2197771072387695, end_logit=4.7193193435668945),\n",
       " BestPrediction(text='given the uncertainties of fossilization , the localization of fossil types due to lateral changes in habitat ( facies change in sedimentary strata', start_logit=5.730345249176025, end_logit=4.181004524230957),\n",
       " BestPrediction(text='the localization of fossil types due to lateral changes in', start_logit=4.952322483062744, end_logit=4.7193193435668945),\n",
       " BestPrediction(text='the uncertainties of fossilization , the localization of fossil', start_logit=5.2197771072387695, end_logit=4.3211588859558105),\n",
       " BestPrediction(text='the uncertainties of fossilization , the localization of fossil types due to lateral changes in habitat ( facies change in sedimentary strata', start_logit=5.2197771072387695, end_logit=4.181004524230957),\n",
       " BestPrediction(text='the localization of fossil', start_logit=4.952322483062744, end_logit=4.3211588859558105),\n",
       " BestPrediction(text='the localization of fossil types due to lateral changes in habitat ( facies change in sedimentary strata', start_logit=4.952322483062744, end_logit=4.181004524230957),\n",
       " BestPrediction(text='', start_logit=3.792943000793457, end_logit=3.5367705821990967)]"
      ]
     },
     "execution_count": 222,
     "metadata": {},
     "output_type": "execute_result"
    }
   ],
   "source": [
    "len(nbest)\n",
    "nbest"
   ]
  },
  {
   "cell_type": "markdown",
   "metadata": {},
   "source": [
    "The last step is to compute the odds of the null answer. According to the original BERT paper, \n",
    "\n",
    "> We predict a non-null answer when sˆi,j > s_null + τ , where the threshold τ is selected on the dev set to maximize F1.  \n",
    "\n",
    "Restating that relationship, we can compute the difference between the null score and the non-null score:"
   ]
  },
  {
   "cell_type": "code",
   "execution_count": 221,
   "metadata": {},
   "outputs": [
    {
     "data": {
      "text/plain": [
       "-5.105966329574585"
      ]
     },
     "execution_count": 221,
     "metadata": {},
     "output_type": "execute_result"
    }
   ],
   "source": [
    "# finally, we can compute the odds of the null answer\n",
    "score_null = start_logits[0] + end_logits[0]\n",
    "score_diff = score_null - nbest[0].start_logit - nbest[0].end_logit\n",
    "\n",
    "score_diff"
   ]
  },
  {
   "cell_type": "markdown",
   "metadata": {},
   "source": [
    "This `score_diff` is computed for every example in the dev set and these scores are saved to disk in the `null_odds_.json`. Let's pull up the score stored for the example we're using and see how we did!"
   ]
  },
  {
   "cell_type": "code",
   "execution_count": 226,
   "metadata": {},
   "outputs": [
    {
     "data": {
      "text/plain": [
       "-5.105948209762573"
      ]
     },
     "execution_count": 226,
     "metadata": {},
     "output_type": "execute_result"
    }
   ],
   "source": [
    "import json\n",
    "filename = 'models/distilbert/twmkn9_distilbert-base-uncased-squad2/null_odds_.json'\n",
    "null_odds = json.load(open(filename, 'rb'))\n",
    "\n",
    "example.qas_id\n",
    "null_odds[example.qas_id]"
   ]
  },
  {
   "cell_type": "markdown",
   "metadata": {},
   "source": [
    "Nailed it down to four decimal places! Good enough for me. "
   ]
  },
  {
   "cell_type": "markdown",
   "metadata": {},
   "source": [
    "### So what?\n",
    "\n",
    "Now that we have an understanding of the prediction process, how to compute scores, and the difference between null scores and non-null scores, we can start to make sense of the fourth block of the results output with the help of the `null_odds_.json` file!"
   ]
  },
  {
   "cell_type": "code",
   "execution_count": null,
   "metadata": {},
   "outputs": [],
   "source": []
  }
 ],
 "metadata": {
  "kernelspec": {
   "display_name": "Python 3.6.1 64-bit ('venv': virtualenv)",
   "language": "python",
   "name": "python36164bitvenvvirtualenv0c1267fd5e5f4f5ba18905a319acff6d"
  },
  "language_info": {
   "codemirror_mode": {
    "name": "ipython",
    "version": 3
   },
   "file_extension": ".py",
   "mimetype": "text/x-python",
   "name": "python",
   "nbconvert_exporter": "python",
   "pygments_lexer": "ipython3",
   "version": "3.6.1"
  }
 },
 "nbformat": 4,
 "nbformat_minor": 4
}
