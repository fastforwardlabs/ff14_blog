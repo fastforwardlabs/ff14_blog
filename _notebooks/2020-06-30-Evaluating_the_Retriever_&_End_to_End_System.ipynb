{
 "cells": [
  {
   "cell_type": "markdown",
   "metadata": {
    "colab_type": "text",
    "id": "pl0KyQomBQ7l"
   },
   "source": [
    "# Evaluating the Retriever & End-to-End System\n",
    "> A review of Information Retrieval and the role it plays in a QA system\n",
    "\n",
    "- title: \"Evaluating the Retriever & End-to-End System\"\n",
    "- toc: true \n",
    "- badges: true\n",
    "- comments: true\n",
    "- hide: true\n",
    "- permalink: /hidden/\n",
    "- search_exclude: false\n",
    "- use_math: true\n",
    "- categories:"
   ]
  },
  {
   "cell_type": "markdown",
   "metadata": {
    "colab_type": "text",
    "id": "Np3wkqy7lTrb"
   },
   "source": [
    "In our last post, [Evaluating QA: Metrics, Predictions, and the Null Response](https://qa.fastforwardlabs.com/no%20answer/null%20threshold/bert/distilbert/exact%20match/f1/robust%20predictions/2020/06/09/Evaluating_BERT_on_SQuAD.html), we took a deep dive look at how to asses the quality of a BERT-like Reader for Question Answering (QA) using the Hugging Face framework. In this post, we'll focus on the former component of an end-to-end QA system - the Retriever. Specifically, we'll introduce Elasticsearch as a powerful and efficient Information Retrieval (IR) tool that can be used to scour through large corpora and retrieve relevant documents. Through the post, we'll explain how to implement and evaluate a Retriever in the context of Question Answering and demonstrate the impact it has on an end-to-end QA system."
   ]
  },
  {
   "cell_type": "markdown",
   "metadata": {
    "colab_type": "text",
    "id": "np9SZdgqBQ7m"
   },
   "source": [
    "### Prerequisites\n",
    "* a basic understanding of Information Retrieval & Search\n",
    "* a basic understanding of IR based QA systems (see previous posts)\n",
    "* a basic understanding of Transformers and PyTorch\n",
    "* a basic understanding of the SQuAD2.0 dataset"
   ]
  },
  {
   "cell_type": "markdown",
   "metadata": {
    "colab_type": "text",
    "id": "7pWWsT7nlTrc"
   },
   "source": [
    "# Retrieving the right document is important"
   ]
  },
  {
   "cell_type": "markdown",
   "metadata": {
    "colab_type": "text",
    "id": "-q2l9AkZlTrd"
   },
   "source": [
    "![](https://github.com/fastforwardlabs/ff14_blog/blob/master/_notebooks/my_icons/michael_scott_quote.jpg?raw=1)\n",
    "\n",
    "\n",
    "We believe what Michael Scott really meant to say is:\n",
    "\n",
    "> \"***You miss 100% of the questions if the answer doesn't appear in the input context***\"\n",
    "\n",
    "As we have discussed throughout this blog series, many modern QA systems take a two-staged approach to answering questions. In the first stage, a document retriever selects *N* potentially relevant documents from a given corpus. Subsequently, a machine comprehension model processes each of the *N* documents to determine an answer to the input question. Because of recent advances in NLP and deep learning (i.e. flashy Transformer models), the machine comprehension component of question answering has typically been the main focus of evaluation. Stage one of these systems has recieved limited attention despite its obvious importance...stage two is bounded by performance at stage one. Let's get more specific.\n",
    "\n",
    "We [recently explained methods](https://qa.fastforwardlabs.com/no%20answer/null%20threshold/bert/distilbert/exact%20match/f1/robust%20predictions/2020/06/09/Evaluating_BERT_on_SQuAD.html) that enable BERT-like models to produce robust answers given a question and context passage by selectively processing predictions and by refraining from answering certain questions at all. While the ability to properly comprehend a passage and produce a correct answer is a critical feature of any QA tool, the success of the overall system is highly dependent on first providing a correct passage to read through. Without being fed a context passage that actually contains the ground-truth answer, the overall system's performance is limited to how well it can predict no-answer questions. To demonstrate, we'll revisit an example from our [second blog post](https://qa.fastforwardlabs.com/pytorch/hugging%20face/wikipedia/bert/transformers/2020/05/19/Getting_Started_with_QA.html) where three questions were asked of the Wikipedia search engine based QA system:"
   ]
  },
  {
   "cell_type": "markdown",
   "metadata": {
    "colab_type": "text",
    "id": "73yug9x4lTrd"
   },
   "source": [
    "```\n",
    "**Example 1: Incorrect**\n",
    "Question: When was Barack Obama born?\n",
    "Top wiki result: <WikipediaPage 'Barack Obama Sr.'>\n",
    "Answer: 18 June 1936 / February 2 , 1961 / \n",
    "\n",
    "**Example 2: Correct**\n",
    "Question: Why is the sky blue?\n",
    "Top wiki result: <WikipediaPage 'Diffuse sky radiation'>\n",
    "Answer: Rayleigh scattering / \n",
    "\n",
    "**Example 3: Correct**\n",
    "Question: How many sides does a pentagon have?\n",
    "Top wiki result: <WikipediaPage 'The Pentagon'>\n",
    "Answer: five / \n",
    "```"
   ]
  },
  {
   "cell_type": "markdown",
   "metadata": {
    "colab_type": "text",
    "id": "YL4_stz3lTre"
   },
   "source": [
    "In Example 1, the Reader had no chance of producing the correct answer because of its outright absence from the context served up by the Retriever. Namely, the Retriever erroneously provided a page about Barack Obama Sr. instead of his son, the former US President. In this case, the only way the Reader could have possibly produced the correct answer was if the correct answer was actually not to answer at all. On the flip side, in Example 3, the Retriever did not identify the globally \"correct\" document - it returned an article about \"The Pentagon\" instead of a page about geometry - but nonetheless, it provided enough context for the Reader to succeed.\n",
    "\n",
    "These quick examples illustrate why an effective Retriever is crucial for an end-to-end QA system. Now let's take a deeper look at a classic tool used for information retrieval - Elasticsearch."
   ]
  },
  {
   "cell_type": "markdown",
   "metadata": {
    "colab_type": "text",
    "id": "sa6UyWz0lTre"
   },
   "source": [
    "# Elasticsearch as an IR Tool"
   ]
  },
  {
   "cell_type": "markdown",
   "metadata": {
    "colab_type": "text",
    "id": "v1MjzT9zlTrf"
   },
   "source": [
    "![](https://github.com/fastforwardlabs/ff14_blog/blob/master/_notebooks/my_icons/elasticsearch-logo.png?raw=1)\n",
    "\n",
    "Modern QA systems employ a variety of techniques for the task of information retrieval ranging from traditional sparse vector word matching (ex. Elasticsearch) to [novel approaches](https://arxiv.org/pdf/2004.04906.pdf) using dense representations of encoded passages combined with [efficient search capabilities](https://github.com/facebookresearch/faiss). Despite the flurry of contemporary research efforts in this area, the traditional sparse vector approach performs very well overall and has only recently been overtaken by embedding-based systems for end-to-end QA retrieval tasks. For that reason, we'll explore Elasticsearch as an easy to use framework for document retrieval. So, what exactly is Elasticsearch?\n",
    "\n",
    "Elasticsearch is a powerful open-source search and analytics engine built on the [Apache Lucene](https://lucene.apache.org/) library that is capable of handling all types of data including textual, numerical, geospatial, structrured, and unstructured. It is built to scale with a robust set of features, rich ecosystem, and diverse list of client libraries making it easy to integrate and use. In the context of information retrieval for automated question answering, we are keenly interested in the features surrounding full-text search. Elasticsearch provides a convenient way to index documents so they can quickly be queried for nearest neighbor search using a TF-IDF based similarity metric. Specifically, it uses [BM25](https://opensourceconnections.com/blog/2015/10/16/bm25-the-next-generation-of-lucene-relevation/) term weighting to represent question and context passages as high-dimensional, sparse vectors that are efficiently searched in an inverted index. For more information on how an inverted index works under the hood, we recommend this quick and concise [blog post](https://codingexplained.com/coding/elasticsearch/understanding-the-inverted-index-in-elasticsearch)."
   ]
  },
  {
   "cell_type": "markdown",
   "metadata": {
    "colab_type": "text",
    "id": "aGSmeXNtlTrh"
   },
   "source": [
    "## Using Elasticsearch with SQuAD2.0"
   ]
  },
  {
   "cell_type": "markdown",
   "metadata": {
    "colab_type": "text",
    "id": "KxL9yAI1lTri"
   },
   "source": [
    "With this basic understanding of how Elasticsearch works, let's dive in and build our own Document Retrieval system by indexing a set of Wikipedia article paragraphs that support questions and answers from the SQuAD2.0 dataset. Before we get started, we'll need to download and prepare data from SQuAD2.0."
   ]
  },
  {
   "cell_type": "markdown",
   "metadata": {
    "colab_type": "text",
    "id": "IiwrK5s6lTri"
   },
   "source": [
    "### Download and Prepare SQUAD2.0"
   ]
  },
  {
   "cell_type": "code",
   "execution_count": 1,
   "metadata": {
    "colab": {
     "base_uri": "https://localhost:8080/",
     "height": 411
    },
    "colab_type": "code",
    "id": "LR4iRtkKlTrj",
    "outputId": "45e3845e-dd88-40d1-fa3a-feb54038347a",
    "scrolled": true
   },
   "outputs": [],
   "source": [
    "# collapse-hide\n",
    "\n",
    "# Download the SQuAD2.0 train & dev sets\n",
    "!wget -P data/squad/ https://rajpurkar.github.io/SQuAD-explorer/dataset/train-v2.0.json\n",
    "!wget -P data/squad/ https://rajpurkar.github.io/SQuAD-explorer/dataset/dev-v2.0.json\n",
    "    \n",
    "import json"
   ]
  },
  {
   "cell_type": "markdown",
   "metadata": {
    "colab_type": "text",
    "id": "WSxO51NglTrn"
   },
   "source": [
    "A common practice in IR for QA is to segment large articles into smaller passages before indexing for two main reasons:\n",
    "\n",
    "1. **Transformer based Readers are very slow** - providing an entire Wikipedia article to BERT for processing takes a considerable amount of time and also defeats the purpose of using an IR tool to narrow the search space for the Reader.\n",
    "2. **Smaller passages reduce noise** - by identifying a more concise context passage for BERT to read through, we reduce the chance of BERT getting lost.\n",
    "\n",
    "Of course the chunking method proposed here doesn't come without a cost. Larger document size means each document contains more information. By reducing passage size, we are potentially trading off system recall for speed - though there are techniques to alleviate this as we will disucss later in the post.\n",
    "\n",
    "With our chunking approach, each article paragraph will be prepended with the article title and collectively serve as a corpus of documents for which our Elasticsearch Retriever will search over. In practice, open-domain QA systems sit atop massive collections of documents (think all of Wikipedia) to provide a breadth of information to answer general-knowledge questions from. For the purposes of demonstrating Elasticsearch functionality, we will limit our corpus to only the Wikipedia articles supporting SQuAD2.0 questions.\n",
    "\n",
    "The following `parse_qa_records` function will extract question/answer examples, as well as paragraph content from the SQuAD2.0 data set."
   ]
  },
  {
   "cell_type": "code",
   "execution_count": 2,
   "metadata": {
    "colab": {},
    "colab_type": "code",
    "id": "FNYE9t_5lTrn"
   },
   "outputs": [],
   "source": [
    "# collapse-hide\n",
    "\n",
    "def parse_qa_records(data):\n",
    "    '''\n",
    "    Loop through SQuAD2.0 dataset and parse out question/answer examples and unique article paragraphs\n",
    "    \n",
    "    Returns:\n",
    "        qa_records (list) - Question/answer examples as list of dictionaries\n",
    "        wiki_articles (list) - Unique Wikipedia titles and article paragraphs recreated from SQuAD data\n",
    "    \n",
    "    '''\n",
    "    num_with_ans = 0\n",
    "    num_without_ans = 0\n",
    "    qa_records = []\n",
    "    wiki_articles = {}\n",
    "    \n",
    "    for article in data:\n",
    "        \n",
    "        for i, paragraph in enumerate(article['paragraphs']):\n",
    "            \n",
    "            wiki_articles[article['title']+f'_{i}'] = article['title'] + ' ' + paragraph['context']\n",
    "            \n",
    "            for questions in paragraph['qas']:\n",
    "                \n",
    "                qa_record = {}\n",
    "                qa_record['example_id'] = questions['id']\n",
    "                qa_record['document_title'] = article['title']\n",
    "                qa_record['question_text'] = questions['question']\n",
    "                \n",
    "                try: \n",
    "                    qa_record['short_answer'] = questions['answers'][0]['text']\n",
    "                    num_with_ans += 1\n",
    "                except:\n",
    "                    qa_record['short_answer'] = \"\"\n",
    "                    num_without_ans += 1\n",
    "                    \n",
    "                qa_records.append(qa_record)\n",
    "        \n",
    "        \n",
    "    wiki_articles = [{'document_title':title, 'document_text': text}\\\n",
    "                         for title, text in wiki_articles.items()]\n",
    "                \n",
    "    print(f'Data contains {num_with_ans} question/answer pairs with a short answer, and {num_without_ans} without.'+\n",
    "          f'\\nThere are {len(wiki_articles)} unique wikipedia article paragraphs.')\n",
    "                \n",
    "    return qa_records, wiki_articles"
   ]
  },
  {
   "cell_type": "code",
   "execution_count": 3,
   "metadata": {
    "colab": {
     "base_uri": "https://localhost:8080/",
     "height": 85
    },
    "colab_type": "code",
    "id": "dZHrwJBblTrq",
    "outputId": "5be3286a-0b51-4075-a027-b45deba70a4d"
   },
   "outputs": [
    {
     "name": "stdout",
     "output_type": "stream",
     "text": [
      "Data contains 86821 question/answer pairs with a short answer, and 43498 without.\n",
      "There are 19035 unique wikipedia article paragraphs.\n",
      "Data contains 5928 question/answer pairs with a short answer, and 5945 without.\n",
      "There are 1204 unique wikipedia article paragraphs.\n"
     ]
    }
   ],
   "source": [
    "# load and parse data\n",
    "train_file = \"data/squad/train-v2.0.json\"\n",
    "dev_file = \"data/squad/dev-v2.0.json\"\n",
    "\n",
    "train = json.load(open(train_file, 'rb'))\n",
    "dev = json.load(open(dev_file, 'rb'))\n",
    "\n",
    "qa_records, wiki_articles = parse_qa_records(train['data'])\n",
    "qa_records_dev, wiki_articles_dev = parse_qa_records(dev['data'])"
   ]
  },
  {
   "cell_type": "code",
   "execution_count": null,
   "metadata": {
    "colab": {},
    "colab_type": "code",
    "id": "Fyk_WZn6lTrt",
    "outputId": "3d23397f-830d-47e3-8649-9591e59ab1b1"
   },
   "outputs": [
    {
     "data": {
      "text/plain": [
       "{'example_id': '56d43c5f2ccc5a1400d830ab',\n",
       " 'document_title': 'Beyoncé',\n",
       " 'question_text': 'What was the first album Beyoncé released as a solo artist?',\n",
       " 'short_answer': 'Dangerously in Love'}"
      ]
     },
     "execution_count": 90,
     "metadata": {
      "tags": []
     },
     "output_type": "execute_result"
    }
   ],
   "source": [
    "# Parsed record example\n",
    "qa_records[10]"
   ]
  },
  {
   "cell_type": "code",
   "execution_count": null,
   "metadata": {
    "colab": {},
    "colab_type": "code",
    "id": "GJkzpTrElTry",
    "outputId": "f495bb9a-d411-47aa-9e0d-48a0e8e9cd01"
   },
   "outputs": [
    {
     "name": "stdout",
     "output_type": "stream",
     "text": [
      "{'document_title': 'Beyoncé_10', 'document_text': 'Beyoncé Beyoncé\\'s first solo recording was a feature on Jay Z\\'s \"\\'03 Bonnie & Clyde\" that was released in October 2002, peaking at number four on the U.S. Billboard Hot 100 chart. Her first solo album Dangerously in Love was released on June 24, 2003, after Michelle Williams and Kelly Rowland had released their solo efforts. The album sold 317,000 copies in its first week, debuted atop the Billboard 200, and has since sold 11 million copies worldwide. The album\\'s lead single, \"Crazy in Love\", featuring Jay Z, became Beyoncé\\'s first number-one single as a solo artist in the US. The single \"Baby Boy\" also reached number one, and singles, \"Me, Myself and I\" and \"Naughty Girl\", both reached the top-five. The album earned Beyoncé a then record-tying five awards at the 46th Annual Grammy Awards; Best Contemporary R&B Album, Best Female R&B Vocal Performance for \"Dangerously in Love 2\", Best R&B Song and Best Rap/Sung Collaboration for \"Crazy in Love\", and Best R&B Performance by a Duo or Group with Vocals for \"The Closer I Get to You\" with Luther Vandross.'}\n"
     ]
    }
   ],
   "source": [
    "# Parsed wiki paragraph example\n",
    "print(wiki_articles[10])"
   ]
  },
  {
   "cell_type": "markdown",
   "metadata": {
    "colab_type": "text",
    "id": "OahFS1vhlTr0"
   },
   "source": [
    "### Download Elasticsearch"
   ]
  },
  {
   "cell_type": "markdown",
   "metadata": {
    "colab_type": "text",
    "id": "V_nOLSOXlTr0"
   },
   "source": [
    "With our data ready to go, let's download, install, and configure Elasticsearch. We recommend running this notebook in Colab and executing the following code snippet for automatic setup. However, if you prefer to run locally, follow the instructions [here](https://www.elastic.co/downloads/elasticsearch). After completing the setup, we will have an Elasticsearch service running locally.\n"
   ]
  },
  {
   "cell_type": "code",
   "execution_count": 4,
   "metadata": {
    "colab": {},
    "colab_type": "code",
    "id": "KHmyF5RklTr1"
   },
   "outputs": [],
   "source": [
    "# collapse-hide\n",
    "\n",
    "# If using Colab - Start Elasticsearch from source\n",
    "! wget https://artifacts.elastic.co/downloads/elasticsearch/elasticsearch-7.6.2-linux-x86_64.tar.gz -q\n",
    "! tar -xzf elasticsearch-7.6.2-linux-x86_64.tar.gz\n",
    "! chown -R daemon:daemon elasticsearch-7.6.2\n",
    "\n",
    "import os\n",
    "from subprocess import Popen, PIPE, STDOUT\n",
    "es_server = Popen(['elasticsearch-7.6.2/bin/elasticsearch'],\n",
    "                   stdout=PIPE, stderr=STDOUT,\n",
    "                   preexec_fn=lambda: os.setuid(1)  # as daemon\n",
    "                  )\n",
    "# wait until ES has started\n",
    "! sleep 30"
   ]
  },
  {
   "cell_type": "markdown",
   "metadata": {
    "colab_type": "text",
    "id": "wy8Tzay-lTr3"
   },
   "source": [
    "### Getting Data into Elasticsearch"
   ]
  },
  {
   "cell_type": "markdown",
   "metadata": {
    "colab_type": "text",
    "id": "9cespYnhlTr4"
   },
   "source": [
    "We'll use the [official low-level Python client library](https://elasticsearch-py.readthedocs.io/en/master/) for interacting with Elasticsearch."
   ]
  },
  {
   "cell_type": "code",
   "execution_count": 2,
   "metadata": {
    "colab": {
     "base_uri": "https://localhost:8080/",
     "height": 173
    },
    "colab_type": "code",
    "id": "BMIa-bJHlTr4",
    "outputId": "95a011a7-4970-42ba-9d66-5f9b5581a87a"
   },
   "outputs": [],
   "source": [
    "# collapse-hide\n",
    "!pip install elasticsearch\n",
    "!pip install tqdm"
   ]
  },
  {
   "cell_type": "markdown",
   "metadata": {
    "colab_type": "text",
    "id": "Bpb2NmWClTr6"
   },
   "source": [
    "By default, Elasticsearch is launched locally on port 9200. We first need to instantiate an Elasticsearch client object and connect to the service."
   ]
  },
  {
   "cell_type": "code",
   "execution_count": 6,
   "metadata": {
    "colab": {
     "base_uri": "https://localhost:8080/",
     "height": 34
    },
    "colab_type": "code",
    "id": "DXvAmLwllTr7",
    "outputId": "dc593d7b-264e-468c-ff7e-77b18a4fc047"
   },
   "outputs": [
    {
     "data": {
      "text/plain": [
       "True"
      ]
     },
     "execution_count": 6,
     "metadata": {
      "tags": []
     },
     "output_type": "execute_result"
    }
   ],
   "source": [
    "from elasticsearch import Elasticsearch\n",
    "\n",
    "config = {'host':'localhost', 'port':9200}\n",
    "es = Elasticsearch([config])\n",
    "\n",
    "# test connection\n",
    "es.ping()"
   ]
  },
  {
   "cell_type": "markdown",
   "metadata": {
    "colab_type": "text",
    "id": "fLI_1deTlTr9"
   },
   "source": [
    "Before we go further, let's introduce a few concepts that are specific to Elasticsearch and the process of indexing data. In Elasticsearch, an ***index*** is a collection of documents that have common characteristics (similar to a database schema in an RDBMS). ***Documents*** are JSON objects having their own set of key-value pairs consisting of various data types (similar to rows/fields in RDBMS). When we add a document into an index, the value for the document's text fields go through an analysis process prior to being indexed. This means that when executing a search query against an existing index, we are actually searching against the post-processed representation that is stored in the inverted index, not the raw input document itself.\n",
    "\n",
    "![Elasticsearch Index Process](https://github.com/fastforwardlabs/ff14_blog/blob/master/_notebooks/my_icons/elastic_index_process.png?raw=1)\n",
    "[Image Credit](https://codingexplained.com/coding/elasticsearch/understanding-analysis-in-elasticsearch-analyzers#:~:text=A%20Closer%20Look%20at%20Analyzers,documents%20when%20they%20are%20indexed.&text=An%20analyzer%20consists%20of%20three,them%20changing%20the%20input%20stream.)\n",
    "\n",
    "The anaysis process is a customizable pipeline carried out by a dedicated ***Analyzer***. Elasticsearch analyzers are composed of three sequential steps that form a processing pipeline: *character filters, a tokenizer, and token filters.* Each of these components modify the input stream of text according to some configurable settings. \n",
    "- **Character Filters:** First, character filters have the ability to add, remove, or replace specific items in the text field. A common application of this filter is to strip `html` markup from the raw input. \n",
    "- **Tokenizer:** After applying character filters, the transformed text is then passed to a tokenizer which breaks up the input string into individual tokens with a provided strategy. By default, the `standard` tokenizer splits tokens whenever it encounters a whitespace character, and also splits on most symbols (like commas, periods, semicolons, etc.)\n",
    "- **Token Filters:** Finally, the token stream is passed to a token filter which acts to add, remove, or modify tokens. Typical token filters include `lowercase` which converts all tokens to lowercase form, and `stop` which removes commonly occuring tokens called *stopwords*. \n",
    "\n",
    "Elasticsearch comes with several built-in Analyzers that satisfy common use cases and defaults to the `Standard Analyzer`. The Standard Analyzer doesn't contain any character filters, uses a `standard` tokenizer, and applies a `lowercase` token filter. Let's take a look at [this example](https://medium.com/elasticsearch/introduction-to-analysis-and-analyzers-in-elasticsearch-4cf24d49ddab) sentence as its passed through this pipeline:\n",
    "\n",
    "> \"I'm in the mood for drinking semi-dry red wine!\"\n",
    "\n",
    "![Elasticsearch Analyzer Pipeline](https://github.com/fastforwardlabs/ff14_blog/blob/master/_notebooks/my_icons/elasticsearch_standard_analyzer.png?raw=1)\n",
    "[Image Credit](https://codingexplained.com/coding/elasticsearch/understanding-analysis-in-elasticsearch-analyzers#:~:text=A%20Closer%20Look%20at%20Analyzers,documents%20when%20they%20are%20indexed.&text=An%20analyzer%20consists%20of%20three,them%20changing%20the%20input%20stream.)\n",
    "\n",
    "Crafting analyzers to your use case requires domain knowledge of the problem and dataset at hand, and doing so properly is key to optimizing relevance scoring for your search application. We found [this blog series](https://medium.com/elasticsearch/introduction-to-analysis-and-analyzers-in-elasticsearch-4cf24d49ddab) very useful in explaining the importance of analysis in Elasticsearch."
   ]
  },
  {
   "cell_type": "markdown",
   "metadata": {
    "colab_type": "text",
    "id": "_oaKhW1flTr9"
   },
   "source": [
    "#### Create an Index\n"
   ]
  },
  {
   "cell_type": "markdown",
   "metadata": {
    "colab_type": "text",
    "id": "hrlsaFgslTr-"
   },
   "source": [
    "Let's create a new index and add our Wikipedia articles to it. To do so, we provide a name and optionally some index configurations. Here we are specifying a set of `mappings` that indicate our anticipated index schema, data types, and how the text fields should be processed. If no `body` is passed, Elasticsearch will automatically infer fields and data types from incoming documents, as well as apply the `Standard Analyzer` to any text fields."
   ]
  },
  {
   "cell_type": "code",
   "execution_count": 7,
   "metadata": {
    "colab": {
     "base_uri": "https://localhost:8080/",
     "height": 68
    },
    "colab_type": "code",
    "id": "vu6imTr6lTr-",
    "outputId": "6bfb7bfe-db9a-4ad5-878c-b23a56fc5960"
   },
   "outputs": [
    {
     "data": {
      "text/plain": [
       "{'acknowledged': True,\n",
       " 'index': 'squad-standard-index',\n",
       " 'shards_acknowledged': True}"
      ]
     },
     "execution_count": 7,
     "metadata": {
      "tags": []
     },
     "output_type": "execute_result"
    }
   ],
   "source": [
    "index_config = {\n",
    "    \"settings\": {\n",
    "        \"analysis\": {\n",
    "            \"analyzer\": {\n",
    "                \"standard_analyzer\": {\n",
    "                    \"type\": \"standard\"\n",
    "                }\n",
    "            }\n",
    "        }\n",
    "    },\n",
    "    \"mappings\": {\n",
    "        \"dynamic\": \"strict\", \n",
    "        \"properties\": {\n",
    "            \"document_title\": {\"type\": \"text\", \"analyzer\": \"standard_analyzer\"},\n",
    "            \"document_text\": {\"type\": \"text\", \"analyzer\": \"standard_analyzer\"}\n",
    "            }\n",
    "        }\n",
    "    }\n",
    "\n",
    "index_name = 'squad-standard-index'\n",
    "es.indices.create(index=index_name, body=index_config, ignore=400)"
   ]
  },
  {
   "cell_type": "markdown",
   "metadata": {
    "colab_type": "text",
    "id": "3vqk73V3lTsB"
   },
   "source": [
    "#### Populate the Index"
   ]
  },
  {
   "cell_type": "markdown",
   "metadata": {
    "colab_type": "text",
    "id": "A11K4dsPlTsB"
   },
   "source": [
    "We can then loop through our list of Wikipedia titles & articles and add them to our newly created Elasticsearch index."
   ]
  },
  {
   "cell_type": "code",
   "execution_count": 8,
   "metadata": {
    "colab": {},
    "colab_type": "code",
    "id": "Pnd12zSHlTsB"
   },
   "outputs": [],
   "source": [
    "# collapse-hide\n",
    "from tqdm.notebook import tqdm\n",
    "\n",
    "def populate_index(es_obj, index_name, evidence_corpus):\n",
    "    '''\n",
    "    Loads records into an existing Elasticsearch index\n",
    "\n",
    "    Args:\n",
    "        es_obj (elasticsearch.client.Elasticsearch) - Elasticsearch client object\n",
    "        index_name (str) - Name of index\n",
    "        evidence_corpus (list) - List of dicts containing data records\n",
    "\n",
    "    '''\n",
    "\n",
    "    for i, rec in enumerate(tqdm(evidence_corpus)):\n",
    "    \n",
    "        try:\n",
    "            index_status = es_obj.index(index=index_name, id=i, body=rec)\n",
    "        except:\n",
    "            print(f'Unable to load document {i}.')\n",
    "            \n",
    "    n_records = es_obj.count(index=index_name)['count']\n",
    "    print(f'Succesfully loaded {n_records} into {index_name}')\n",
    "\n",
    "\n",
    "    return"
   ]
  },
  {
   "cell_type": "code",
   "execution_count": 9,
   "metadata": {
    "colab": {
     "base_uri": "https://localhost:8080/",
     "height": 83,
     "referenced_widgets": [
      "a493a4c07a2743899571330cf6476b74",
      "e94a6f98578743c096c9b045d9dfdf81",
      "28a305d13e584615b9ba3cd9a37bdd56",
      "a299f8fa902348b7807b4d97ebc6027d",
      "a44c2693aee14b89a4c6512c85142f51",
      "a8cebe4ccf004d84bdc37ce44d1192e8",
      "b04d963baf9a40789305d1372ffe1aab",
      "dca5b0a8c1014a66bc8c5ba988878a85"
     ]
    },
    "colab_type": "code",
    "id": "k44Drj_HlTsE",
    "outputId": "7e54768d-c113-4a39-ed76-b37a5b4d3578"
   },
   "outputs": [
    {
     "data": {
      "application/vnd.jupyter.widget-view+json": {
       "model_id": "a493a4c07a2743899571330cf6476b74",
       "version_major": 2,
       "version_minor": 0
      },
      "text/plain": [
       "HBox(children=(FloatProgress(value=0.0, max=20239.0), HTML(value='')))"
      ]
     },
     "metadata": {
      "tags": []
     },
     "output_type": "display_data"
    },
    {
     "name": "stdout",
     "output_type": "stream",
     "text": [
      "\n",
      "Succesfully loaded 20239 into squad-standard-index\n"
     ]
    }
   ],
   "source": [
    "all_wiki_articles = wiki_articles + wiki_articles_dev\n",
    "\n",
    "populate_index(es_obj=es, index_name='squad-standard-index', evidence_corpus=all_wiki_articles)"
   ]
  },
  {
   "cell_type": "markdown",
   "metadata": {
    "colab_type": "text",
    "id": "hqCpXHL6lTsG"
   },
   "source": [
    "#### Search the Index"
   ]
  },
  {
   "cell_type": "markdown",
   "metadata": {
    "colab_type": "text",
    "id": "KsLqs2THlTsH"
   },
   "source": [
    "Wahoo! We now have some documents loaded into into an index. Elasticsearch provides a rich [query language](https://www.elastic.co/guide/en/elasticsearch/reference/current/query-dsl.html) that supports a diverse range of query types. For this example, we'll use the standard query for performing full-text search called a `match` query. By default, Elasticsearch sorts and returns a JSON reponse of search results based on a computed a [relevance score](https://qbox.io/blog/practical-guide-elasticsearch-scoring-relevancy#:~:text=Together%2C%20these%20combine%20into%20a,number%20known%20as%20the%20_score.) which indicates how well a given document matches the query. Along with the relevance score of each matched document, the search response also includes the amount of time the query took to run.\n",
    "\n",
    "Let's look at a simple `match` query used to search the `document_text` field in our newly created index.\n",
    "\n",
    "> Important: As previously mentioned, all documents in the index have gone through an analysis process prior to indexing - this is called *index time analysis*. To maintain consistency in matching text queries against the post-processed index tokens, the same Analyzer used on a given field at index time is automatically applied to the query text at search time. *Search time analysis* is applied depending on which query type is used - `match` queries apply search time analysis by default."
   ]
  },
  {
   "cell_type": "code",
   "execution_count": 10,
   "metadata": {
    "colab": {},
    "colab_type": "code",
    "id": "UfbzT03mlTsH"
   },
   "outputs": [],
   "source": [
    "# collapse-hide\n",
    "def search_es(es_obj, index_name, question_text, n_results):\n",
    "    '''\n",
    "    Execute an Elasticsearch query on a specified index\n",
    "    \n",
    "    Args:\n",
    "        es_obj (elasticsearch.client.Elasticsearch) - Elasticsearch client object\n",
    "        index_name (str) - Name of index to query\n",
    "        query (dict) - Query DSL\n",
    "        n_results (int) - Number of results to return\n",
    "        \n",
    "    Returns\n",
    "        res - Elasticsearch response object\n",
    "    \n",
    "    '''\n",
    "    \n",
    "    # construct query\n",
    "    query = {\n",
    "            'query': {\n",
    "                'match': {\n",
    "                    'document_text': question_text\n",
    "                    }\n",
    "                }\n",
    "            }\n",
    "    \n",
    "    res = es_obj.search(index=index_name, body=query, size=n_results)\n",
    "    \n",
    "    return res"
   ]
  },
  {
   "cell_type": "code",
   "execution_count": 11,
   "metadata": {
    "colab": {},
    "colab_type": "code",
    "id": "y1pePxDFlTsK"
   },
   "outputs": [],
   "source": [
    "question_text = 'Who was the first president of the Republic of China?'\n",
    "\n",
    "# execute query\n",
    "res = search_es(es_obj=es, index_name='squad-standard-index', question_text=question_text, n_results=10)"
   ]
  },
  {
   "cell_type": "code",
   "execution_count": 12,
   "metadata": {
    "colab": {
     "base_uri": "https://localhost:8080/",
     "height": 238
    },
    "colab_type": "code",
    "id": "vEw77SallTsM",
    "outputId": "567623ea-649d-4d66-cd93-9a3cde84c28a"
   },
   "outputs": [
    {
     "name": "stdout",
     "output_type": "stream",
     "text": [
      "Question: Who was the first president of the Republic of China?\n",
      "Query Duration: 74 milliseconds\n",
      "Title, Relevance Score:\n"
     ]
    },
    {
     "data": {
      "text/plain": [
       "[('Modern_history_54', 23.131157),\n",
       " ('Nanjing_18', 17.076923),\n",
       " ('Republic_of_the_Congo_10', 16.840765),\n",
       " ('Prime_minister_16', 16.137493),\n",
       " ('Korean_War_29', 15.801523),\n",
       " ('Korean_War_43', 15.586578),\n",
       " ('Qing_dynasty_52', 15.291815),\n",
       " ('Chinese_characters_55', 14.773873),\n",
       " ('Korean_War_23', 14.736045),\n",
       " ('2008_Sichuan_earthquake_48', 14.417962)]"
      ]
     },
     "execution_count": 12,
     "metadata": {
      "tags": []
     },
     "output_type": "execute_result"
    }
   ],
   "source": [
    "print(f'Question: {question_text}')\n",
    "print(f'Query Duration: {res[\"took\"]} milliseconds')\n",
    "print('Title, Relevance Score:')\n",
    "[(hit['_source']['document_title'], hit['_score']) for hit in res['hits']['hits']]"
   ]
  },
  {
   "cell_type": "markdown",
   "metadata": {
    "colab_type": "text",
    "id": "JloR3u_nlTsO"
   },
   "source": [
    "# Evaluating Retriever Performance"
   ]
  },
  {
   "cell_type": "markdown",
   "metadata": {
    "colab_type": "text",
    "id": "UsM5mdnHlTsP"
   },
   "source": [
    "Ok, so we now have a basic understanding of how to use Elasticsearch as an IR tool to return some results for a given question, but how do we know if it's working? How do we evaluate what a good IR tool looks like?\n",
    "\n",
    "To evaluate how well our Retriever is working, we'll need two things: some labeled examples (i.e. SQuAD2.0 question/answer pairs) and some performance metrics. In the conventional world of information retrieval, there are [many metrics](https://en.wikipedia.org/wiki/Evaluation_measures_(information_retrieval)) used to quantify the relevance of query results - largely centered around the concepts of precision and recall. For IR in the context of question answering, we adapt some of these ideas into two commonly used evaluation metrics: *recall* and *mean average precision (mAP)*. Additionally, we evaluate the amount of time required to execute a query since the main point of having a two stage QA system is to efficiently narrow the large search space for our Reader.\n",
    "\n",
    "#### Recall\n",
    "\n",
    "Traditionally, recall in IR indicates the fraction of all relevant documents that are retrieved. In the context of end-to-end QA systems sitting on large corpora of documents, we are less concerned with finding *all* of the passages containing the answer (because it would take significant time to read through all of them anyway) and more concerned with the binary presence of a passage containing the correct answer being returned. In that light, we define a Retriever's recall across a set of questions as *the percentage of questions for which the answer segment appears in one of the top N pages returned by the search method.*\n",
    "\n",
    "#### Mean Average Precision\n",
    "\n",
    "While the *recall* metric focuses on the minimum viable result set to enable a Reader for success, we do still care about the composition of that result set. We want a metric that rewards a Retriever for a.) returning a lot of answer-containing documents in the result set (i.e. traditional meaning of precision) and b.) returning those answer-containing documents higher up in the result set than non-answer-containing documents (i.e. ranking them correctly). This is precisely (🙃) what mean average precision (mAP) does for us. \n",
    "\n",
    "To explain mAP further, let's first break down the concept of average precision for information retrieval. If our Retriever is asked to return N documents and the total number of those N documents that actually contains the answer is m, then average precision (AP) is defined as:\n",
    "\n",
    "![](https://github.com/fastforwardlabs/ff14_blog/blob/master/_notebooks/my_icons/map_equation.png?raw=1)\n",
    "\n",
    "where *rel(k)* is just a binary indication of whether the *kth* passage contains the correct answer segment or not. Using a concrete example, consider retrieving *N=3* documents, of which one actually contains the correct answer segment. Here are three scenarios for how this could happen:\n",
    "\n",
    "![](https://github.com/fastforwardlabs/ff14_blog/blob/master/_notebooks/my_icons/map_example.png?raw=1)\n",
    "    \n",
    "Despite the fact that in each scenario we only have one document containing the correct answer, Scenario A is rewarded with the highest score because it was able to correctly rank the ground truth document relative to the others returned. Since average precision is calculated on a per query basis, the mean average precision is simply just *the average AP across all queries*. \n",
    "\n",
    "Now using our Wikipedia passage index, let's define a function called `evaluate_retriever` to loop through all quesion/answer examples from the SQuAD2.0 train set and see how well our Elasticsearch retriever peforms in terms of recall, mAP, and averege query duration when retrieving *N=3* passages."
   ]
  },
  {
   "cell_type": "code",
   "execution_count": null,
   "metadata": {
    "colab": {},
    "colab_type": "code",
    "id": "yiakwwmklTsP"
   },
   "outputs": [],
   "source": [
    "# collapse-hide\n",
    "import numpy as np\n",
    "import pandas as pd\n",
    "\n",
    "def average_precision(binary_results):\n",
    "    \n",
    "    ''' Calculates the average precision for a list of binary indicators '''\n",
    "    \n",
    "    m = 0\n",
    "    precs = []\n",
    "\n",
    "    for i, val in enumerate(binary_results):\n",
    "        if val == 1:\n",
    "            m += 1\n",
    "            precs.append(sum(binary_results[:i+1])/(i+1))\n",
    "            \n",
    "    ap = (1/m)*np.sum(precs) if m else 0\n",
    "            \n",
    "    return ap\n",
    "\n",
    "\n",
    "def evaluate_retriever(es_obj, index_name, qa_records, n_results):\n",
    "    '''\n",
    "    This function loops through a set of question/answer examples from SQuAD2.0 and \n",
    "    evaluates Elasticsearch as a information retrieval tool in terms of recall, mAP, and query duration.\n",
    "    \n",
    "    Args:\n",
    "        es_obj (elasticsearch.client.Elasticsearch) - Elasticsearch client object\n",
    "        index_name (str) - name of index to query\n",
    "        qa_records (list) - list of qa_records from preprocessing steps\n",
    "        n_results (int) - the number of results ElasticSearch should return for a given query\n",
    "        \n",
    "    Returns:\n",
    "        test_results_df (pd.DataFrame) - a dataframe recording search results info for every example in qa_records\n",
    "    \n",
    "    '''\n",
    "    \n",
    "    results = []\n",
    "    \n",
    "    for i, qa in enumerate(tqdm(qa_records)):\n",
    "        \n",
    "        ex_id = qa['example_id']\n",
    "        question = qa['question_text']\n",
    "        answer = qa['short_answer']\n",
    "        \n",
    "        # construct and execute query\n",
    "        query = {\n",
    "                'query': {\n",
    "                    'match': {\n",
    "                        'document_text': question\n",
    "                        }\n",
    "                    }\n",
    "                }\n",
    "        \n",
    "        res = search_es(es_obj=es_obj, index_name=index_name, query=query, n_results=n_results)\n",
    "        \n",
    "        # calculate performance metrics from query response info\n",
    "        duration = res['took']\n",
    "        binary_results = [int(answer.lower() in doc['_source']['document_text'].lower()) for doc in res['hits']['hits']]\n",
    "        ans_in_res = int(any(binary_results))\n",
    "        ap = average_precision(binary_results)\n",
    "\n",
    "        rec = (ex_id, question, answer, duration, ans_in_res, ap)\n",
    "        results.append(rec)\n",
    "    \n",
    "    # format results dataframe\n",
    "    cols = ['example_id', 'question', 'answer', 'query_duration', 'answer_present', 'average_precision']\n",
    "    results_df = pd.DataFrame(results, columns=cols)\n",
    "    \n",
    "    # format results dict\n",
    "    metrics = {'Recall': results_df.answer_present.value_counts(normalize=True)[1],\n",
    "               'Mean Average Precision': results_df.average_precision.mean(),\n",
    "               'Average Query Duration':results_df.query_duration.mean()}\n",
    "    \n",
    "    return results_df, metrics"
   ]
  },
  {
   "cell_type": "code",
   "execution_count": null,
   "metadata": {
    "colab": {
     "referenced_widgets": [
      "c2e8a34b484b47eca6cd2010052a6b44"
     ]
    },
    "colab_type": "code",
    "id": "N9jLAXDdlTsR",
    "outputId": "7c4aa880-a287-47a2-d6e9-ca03adbaa034"
   },
   "outputs": [
    {
     "data": {
      "application/vnd.jupyter.widget-view+json": {
       "model_id": "c2e8a34b484b47eca6cd2010052a6b44",
       "version_major": 2,
       "version_minor": 0
      },
      "text/plain": [
       "HBox(children=(FloatProgress(value=0.0, max=92749.0), HTML(value='')))"
      ]
     },
     "metadata": {
      "tags": []
     },
     "output_type": "display_data"
    },
    {
     "name": "stdout",
     "output_type": "stream",
     "text": [
      "\n"
     ]
    }
   ],
   "source": [
    "# combine train/dev examples and filter out SQuAD records that\n",
    "# do not have a short answer for the given question\n",
    "all_qa_records = qa_records+qa_records_dev\n",
    "qa_records_answerable = [record for record in all_qa_records if record['short_answer'] != '']\n",
    "\n",
    "# run evaluation\n",
    "results_df, metrics = evaluate_retriever(es_obj=es, index_name='squad-standard-index', qa_records=qa_records_answerable, n_results=3)\n"
   ]
  },
  {
   "cell_type": "code",
   "execution_count": null,
   "metadata": {
    "colab": {},
    "colab_type": "code",
    "id": "tOxeFQqFlTsT",
    "outputId": "6a8bf424-bb46-447d-b386-c1d7b9be2146"
   },
   "outputs": [
    {
     "data": {
      "text/plain": [
       "{'Recall': 0.8226180336176131,\n",
       " 'Mean Average Precision': 0.7524133234140888,\n",
       " 'Average Query Duration': 3.0550841518506937}"
      ]
     },
     "execution_count": 135,
     "metadata": {
      "tags": []
     },
     "output_type": "execute_result"
    }
   ],
   "source": [
    "metrics"
   ]
  },
  {
   "cell_type": "markdown",
   "metadata": {
    "colab_type": "text",
    "id": "hU2Klvn-lTsU"
   },
   "source": [
    "# Improving Search Results with a Custom Analyzer"
   ]
  },
  {
   "cell_type": "markdown",
   "metadata": {
    "colab_type": "text",
    "id": "S-8WrpnZlTsV"
   },
   "source": [
    "Identifying a correct passage in the Top 3 results for 82% of the SQuAD questions in ~3 milliseconds per question is not too bad! But that means that we've effectively limited our overall QA system to an 82% upper bound on performance. How can we improve upon this?\n",
    "\n",
    "One simple and obvious way to increase recall would be to just retrieve more passages. The following figure shows the effects of varying corpus size and result size on Elasticsearch retriever recall. As expected we see that the number of passages retrieved (i.e. *Top N*) has a dramatic impact on recall; a ~10-15 point jump from 1 to 3 passages returned, and ~5 point jump for each of the other tiers. We also see a gradual decrease in recall as corpus size increases, which isn't surprising.\n",
    "\n",
    "![Recall vs. Corpus Size](https://github.com/fastforwardlabs/ff14_blog/blob/master/_notebooks/my_icons/recall_v_corpussize.png?raw=1 \"Experimental results demonstrating the impact of increasing corpus size and number of results retrieved on Elasticsearch recall.\")\n",
    "\n",
    "While increasing the number of passages retrieved is effective, it also has implications on overall system performance as the already slow Reader now has to reason over more text. Instead, we can lean on best practices in the well explored domain of information retrieval.\n",
    "\n",
    "Optimizing full-text search is a battle between precision (returning as few irrelevant documents as possible) and recall (returning as many relevant documents as possible). Matching only exact words in the question query results in high precision, however it misses out on many passages that could possibly be considered relevant. Rather we can cast a wider net by searching for terms that are not exactly the same as in the question query, but are related in some way. Let's explore a few tips and tricks for widening the net.\n",
    "\n",
    "Earlier in the post we described Elasticsearch Analyzers as a way to deal with the nuances of human language. Analyzers provide a flexible and extensible method to tailor search for a given dataset. Here are a few custom Analyzer components Elasticsearch provides that can help cast a wider net.\n",
    "\n",
    "- **Stopwords**: Stopwords are the most frequently occuring words in the English language (ex. \"and\", \"the\", \"to\", etc.) and add minimal semantic value to a piece of text. Common practice in information retrieval is to identify and remove them from documents to decrease the size of the index and increase relevance of search results. \n",
    "\n",
    "- **Stemming**: The English language is inflected - words can alter their written form to express different meanings. For example, 'sing', 'sings', 'sang', and 'singing' are written with slight differences, but really mean the same thing. Stemming algorithms exploit the fact that search intent is *usually* word-form agnostic and attempts to reduce inflected words to their root form - consequently improving retrievability. We'll implement the [Snowball](https://snowballstem.org/) stemming algorithm as a token filter in our custom Analyzer."
   ]
  },
  {
   "cell_type": "code",
   "execution_count": 3,
   "metadata": {
    "colab": {
     "base_uri": "https://localhost:8080/",
     "height": 284,
     "referenced_widgets": [
      "f8d18feb30b24de5bbbb869cc9a31ae8",
      "15f44b8cf87d459bb6a40b5e6b9db470",
      "f4d90214c67749168472a2ba3cb0d72a",
      "95923a713e324d18bc9fc82a466703c4",
      "40b3ea36c5ca407597e8ce6c738c9786",
      "9061d4497e4443029cbb21b77281cf31",
      "139cd5c5c43f436495dfddbdfc7d35c3",
      "ef2c1a3506c549b7878e3ea4a5cc565f"
     ]
    },
    "colab_type": "code",
    "id": "dPMz6_6ZlTsV",
    "outputId": "e4a16e49-387b-4913-adc6-db5def10d339"
   },
   "outputs": [],
   "source": [
    "# create new index\n",
    "index_config = {\n",
    "    \"settings\": {\n",
    "        \"analysis\": {\n",
    "            \"analyzer\": {\n",
    "                \"stop_stem_analyzer\": {\n",
    "                    \"type\": \"custom\",\n",
    "                    \"tokenizer\": \"standard\",\n",
    "                    \"filter\":[\n",
    "                        \"lowercase\",\n",
    "                        \"stop\",\n",
    "                        \"snowball\"\n",
    "                    ]\n",
    "                    \n",
    "                }\n",
    "            }\n",
    "        }\n",
    "    },\n",
    "    \"mappings\": {\n",
    "        \"dynamic\": \"strict\", \n",
    "        \"properties\": {\n",
    "            \"document_title\": {\"type\": \"text\", \"analyzer\": \"stop_stem_analyzer\"},\n",
    "            \"document_text\": {\"type\": \"text\", \"analyzer\": \"stop_stem_analyzer\"}\n",
    "            }\n",
    "        }\n",
    "    }\n",
    "\n",
    "es.indices.create(index='squad-stop-stem-index', body=index_config, ignore=400)\n",
    "\n",
    "# populate the index\n",
    "populate_index(es_obj=es, index_name='squad-stop-stem-index', evidence_corpus=all_wiki_articles)\n",
    "\n",
    "# evaluate retriever performance\n",
    "stop_stem_results_df, stop_stem_metrics = evaluate_retriever(es_obj=es, index_name='squad-stop-stem-index',\\\n",
    "                                                             qa_records=qa_records_answerable, n_results=3)\n"
   ]
  },
  {
   "cell_type": "code",
   "execution_count": null,
   "metadata": {
    "colab": {},
    "colab_type": "code",
    "id": "13ETw8oBlTsY",
    "outputId": "918b6bb6-1eff-4138-940c-e5784a39300b"
   },
   "outputs": [
    {
     "data": {
      "text/plain": [
       "{'Recall': 0.8501115914996388,\n",
       " 'Mean Average Precision': 0.7800892731997112,\n",
       " 'Average Query Duration': 0.7684287701215108}"
      ]
     },
     "execution_count": 137,
     "metadata": {
      "tags": []
     },
     "output_type": "execute_result"
    }
   ],
   "source": [
    "stop_stem_metrics"
   ]
  },
  {
   "cell_type": "markdown",
   "metadata": {
    "colab_type": "text",
    "id": "4jt2vmgelTsa"
   },
   "source": [
    "Awesome - we've increased recall and mAP by ~3 points and reduced our average query duration by nearly 4x through simple pre-processing steps that just scratch the surface of tailored analysis in Elasticsearch. With that, there is no \"one size fits all\" recipe for optimizing search relevance and every implementation will be different. In addition to custom analysis, there are many other methods for increasing search recall like query expansion - that introduces additional tokens/phrases into a query at search time. We'll save that topics for another post and instead take a look at how the Retreiver's performance affects and end-to-end QA system."
   ]
  },
  {
   "cell_type": "markdown",
   "metadata": {
    "colab_type": "text",
    "id": "M4YOvX-ilTsb"
   },
   "source": [
    "# Impact of Retriever in End-to-End QA System"
   ]
  },
  {
   "cell_type": "markdown",
   "metadata": {
    "colab_type": "text",
    "id": "RAFJgQcjnbky"
   },
   "source": [
    "We now want to evaluate the full QA system in which the retriever passes relevant documents to the reader. We used the questions from the train set to evaluate the stand-alone retriever in order to provide as large a collection as possible. However, BERT has been trained on those question and would return inflated performance values if we used them for full system evaluation. Instead we'll resort to our trusty SQuAD2.0 dev set. We'll also use the more efficient index that we developed in the last section in order to give our reader the best chance of receiving documents that contain the right answer. \n",
    "\n",
    "> Note: In this section we'll focus on a discussion. The code to reproduce our results can be found at the end of the post. "
   ]
  },
  {
   "cell_type": "markdown",
   "metadata": {
    "colab_type": "text",
    "id": "ah5HxO2Gs7Gf"
   },
   "source": [
    "## Connecting the retriever to the reader\n",
    "\n",
    "In our last post we evaluated a BERT-like model on the SQuAD2.0 dev set by providing the model with exactly the right paragraph in which to find an answer. This time, the retriever will serve up some number of documents that it deems most relevant. How should the retriever and the reader interact? And how should the reader determine which document out of all them contains the best answer? \n",
    "\n",
    "This turns out to be one of the trickier subtleties in building a full QA system. There are several ways to approach this problem. We'll describe two that we tried: \n",
    "\n",
    "1. Pass each document to the reader individually then aggregate the resulting scores\n",
    "2. Concatenate all documents into one long passage and pass to the reader simultaneously\n",
    "\n",
    "### Pass each document individually\n",
    "Both methods have pros and cons. In option 1, the reader returns answers and scores for each document. A series of heuristics must be developed to determine which answer is the best, and when the null answer should be returned. These heuristics can be as simple as: \"Only return null if the highest scoring answer for all documents is null, otherwise return the highest scoring non-null answer\" but complexity can easily grow from there. \n",
    "\n",
    "Compounding this challenge is the fact that the answer scores associated with each document are actually not directly comparable to the answer scores from any other document. This is because the score returned is a softmax probability over the tokens in a given document - the probabilities sum to 1 for _that document_ only. This means that an answer with a score of 0.78 from one document might not actually be inherently \"better\" than an answer with a score of .70 from another document!\n",
    "\n",
    "Finally, this option is slower because each article is passed individually leading to multiple BERT calls. \n",
    "\n",
    "### Pass all documents together as one long context\n",
    "Option 2 circumvents many of these challenges but leads to other problems. \n",
    "Creating one long context out of the top k articles solves many problems for us: \n",
    "1. all candidate answers are scored on the same scale,\n",
    "2. handling the null answer is more straightforward (we did that last time),\n",
    "3. and we can take advantage of faster compute as HF will chunk long documents for us and pass them through BERT in a batch. \n",
    "\n",
    "On the other hand, when concatenating multiple passages together, there's a good chance that BERT will see a mixed context: the end of one paragraph grafted onto the beginning of another, for example. This could make it more difficult for the model to correctly identify an answer in a potentially confusing context. Another drawback is that it's more difficult to backstrapolate which of the input documents the answer ultimately came from. \n",
    "\n",
    "We created a reader class that leverages the HF question-answering `pipeline` to do the brunt of the work for us (loading models and tokenizers, converting text to features, chunking, prediction, etc.). We then created two methods: `predict` and `predict_combine` corresponding to option 1 and option 2, respectively. We tested our two methods over 1000 examples from the SQuAD2.0 dev set for a range of number of retrieved documents. \n",
    "\n",
    "![](my_icons/qa_eval_combined_vs_individual.png)\n",
    "\n",
    "There are two trends to recognize. First, we see that our method of concatenating documents together (blue bars) and passing them to the reader all at once outperforms passing documents invididually and applying heuristics to the outputs. While more sophistical heuristics can be developed, for short documents (paragraphs in this case) we find that the concatenation method is the most straightforward approach.\n",
    "\n",
    "The second thing to notice is that, as the number of retrieved documents increases, the overall performance decreases. What's going on? When we evaluated the retriever, we found that increasing the number of retrieved documents increased the likelihood that the correct answer was contained in at least one of them. So why does reader performance degrade? "
   ]
  },
  {
   "cell_type": "markdown",
   "metadata": {
    "colab_type": "text",
    "id": "AOTKaSZ4uRWu"
   },
   "source": [
    "## Evaluation methods\n",
    "\n",
    "Standard evaluation on the SQuAD2.0 dev set considers only the best overall answer for each question. This is what we considered in the previous section and found that performance decreased as more documents are fed to the reader. \n",
    "However, we also found it instructive to consider an alternative. Mirroring our retriever recall metric from earlier, we constructed a similar metric for the full system. Specifically, we compute the _percent of examples in which the correct answer is found in **at least one** of the top k documents provided by the retriever_.  \n",
    "\n",
    "![](my_icons/qa_eval_top1_vs_any_topk.png)\n",
    "\n",
    "The blue bars are the same as the blue bars in the figure above, but this time the orange bars represent our new recall-esque metric - what a difference! This demonstrates that when the model is provided with more documents, the correct answer is present more often! However, trying to predict which one of those answers is the right one is challenging -- a task that is not achieved by a simple heuristic. \n",
    "\n",
    "Does this mean we shouldn't use QA systems like this? Of course not! There are several factors to consider: \n",
    "\n",
    "1. Use Case: If your QA system seeks to provide enhanced search capabilities then it might not be necessary to predict a single answer with high confidence, instead providing answers from several documents for the user to peruse. On the other hand, if your use case seeks to augment a chatbot, then predicting a high confidence answer might be more important for user experience. \n",
    "\n",
    "2. Better heuristics:  While our simple heuristic didn't perform as well as concatenating all the input documents into one long context, there is considerable research into developing heurstics that work. In particular, one promising approach is to develop a new score based on the both how highly a document is ranked, as well as the answer's score.\n",
    "\n",
    "3. Document length: Our concatenation method works reasonably well compared to other methods, but the documents are short - they're small Wikipedia paragraphs. If the document length becomes significantly longer, this method's performance can degrade significantly. \n"
   ]
  },
  {
   "cell_type": "markdown",
   "metadata": {},
   "source": [
    "# Wrapping Up\n",
    "\n",
    "We did it! We built a full QA system using off-the-shelf parts with ElasticSearch and HuggingFace Transformers. In addition to the takeaways above, we have one final parting thought. \n",
    "\n",
    "In this post we made some design choices including the choice to index over Wikipedia paragraphs rather than full articles. This allowed us to more easily replicate SQuAD evaluation methods but this isn't practical. In the real world, a QA system will need to work on with existing indexes which are typically performed over long documents and not split into paragraphs. This provides the retriever with the best chance of returning a relevant document. \n",
    "\n",
    "However, passing multiple long documents to a Transformer model is a recipe of boredom -- it will take forever and it likely won't be highly informative. Transformers work best with smaller passages. Thus, extracting a few highly relevant paragraphs from the most relevant document is a better recipe for a practical implementation. \n",
    "\n",
    "This is exactly the approach we'll take next time when we (hopefully) address the biggest question of all: \n",
    "\n",
    "> How do I apply a QA system to **my** data? \n",
    "\n",
    "Stay tuned!\n"
   ]
  },
  {
   "cell_type": "markdown",
   "metadata": {},
   "source": [
    "# Post Script: The Code"
   ]
  },
  {
   "cell_type": "code",
   "execution_count": null,
   "metadata": {},
   "outputs": [],
   "source": [
    "!pip install transformers"
   ]
  },
  {
   "cell_type": "code",
   "execution_count": null,
   "metadata": {},
   "outputs": [],
   "source": [
    "from transformers.data.processors import SquadV2Processor\n",
    "processor = SquadV2Processor()\n",
    "examples = processor.get_dev_examples(data_dir='data/squad/')"
   ]
  },
  {
   "cell_type": "code",
   "execution_count": null,
   "metadata": {},
   "outputs": [],
   "source": [
    "!curl -L -O https://raw.githubusercontent.com/melaniebeck/question_answering/master/src/readers.py"
   ]
  },
  {
   "cell_type": "code",
   "execution_count": null,
   "metadata": {},
   "outputs": [],
   "source": [
    "from readers import Reader()\n",
    "reader = Reader()"
   ]
  },
  {
   "cell_type": "code",
   "execution_count": null,
   "metadata": {},
   "outputs": [],
   "source": [
    "# collapse-hide\n",
    "def query(prediction_function, question, index_name, topk):\n",
    "    \"\"\"\n",
    "    Extracts answers from a full QA system: \n",
    "        1) Constructs query and retrieves the topk relevant documents \n",
    "        2) Passes those documents to the reader's prediction_function\n",
    "        3) Returns the topk answers for each of the k documents\n",
    "\n",
    "    Inputs:\n",
    "        prediction_function: either reader.predict or reader.predict_combine\n",
    "        question: str, question string\n",
    "        index_name: str, name of the index for the retriever\n",
    "        topk: int, number of documents to retrieve from retriever;\n",
    "                   number of answers to extract from reader\n",
    "\n",
    "    Outputs: \n",
    "        answers: dict with format:\n",
    "            {\n",
    "              'question': question string,\n",
    "              'answers': list of answer dicts from reader \n",
    "            }\n",
    "    \"\"\"\n",
    "    query = {\n",
    "        'query': {\n",
    "            'match': {\n",
    "                'document_text': question\n",
    "                }\n",
    "            }\n",
    "        }\n",
    "    retriever_results = search_es(es_obj=es, \n",
    "                                  index_name=index_name, \n",
    "                                  query=query, \n",
    "                                  n_results=topk)\n",
    "\n",
    "    passages = retriever_results['hits']['hits']\n",
    "    docs = []\n",
    "    for passage in passages:\n",
    "        doc = {\n",
    "            'id': passage['_id'],\n",
    "            'score': passage['_score'],\n",
    "            'text': passage['_source']['document_text'], \n",
    "            'title': passage['_source']['document_title'],\n",
    "        }\n",
    "        docs.append(doc)\n",
    "\n",
    "    answers = prediction_function(question, docs, topk)\n",
    "    return answers"
   ]
  },
  {
   "cell_type": "code",
   "execution_count": 156,
   "metadata": {
    "colab": {},
    "colab_type": "code",
    "id": "Zi9757o_qqC6"
   },
   "outputs": [],
   "source": [
    "from transformers.data.metrics.squad_metrics import squad_evaluate\n",
    "from transformers.data.metrics.squad_metrics import compute_exact, normalize_answer\n",
    "\n",
    "def evaluate_qasystem_squadstyle(\n",
    "                      predition_function,\n",
    "                      examples, \n",
    "                      index_name, \n",
    "                      topk, \n",
    "                      output_path='data/',\n",
    "                      save_output=True \n",
    "                      ):\n",
    "    \"\"\"\n",
    "    Squad-style evaluation requires that only the best answer aggregated from all\n",
    "    top k documentsis is provided as the prediction during evaluation. \n",
    "    \n",
    "    Inputs\n",
    "        prediction_function: either reader.predict or reader.predict_combine\n",
    "        examples: list, the SQuAD2.0 dev set as loaded by the squad processors\n",
    "        index_name: str, name of the index in ElasticSearch\n",
    "        topk: int, number of documents to retrieve\n",
    "        output_path: str, directory to store prediction output\n",
    "        save_output: bool, whether to save prediction output\n",
    "    \n",
    "    Outputs\n",
    "        Saved to disk \n",
    "        predictions: Best answer for each SQuAD2.0 question \n",
    "        meta_predictions: Top N answers for each SQuAD question\n",
    "        \n",
    "        Returns\n",
    "        results: OrderedDict of results from the HF squad_evaluate method\n",
    "    \"\"\"\n",
    "    import pickle\n",
    "\n",
    "    outfile = output_path+f\"predictions_{index_name}_{topk}.pkl\"\n",
    "\n",
    "    # if we've already computed predictions, load them for evaluation\n",
    "    if os.path.exists(outfile):\n",
    "        predictions = pickle.load(open(outfile, \"rb\"))\n",
    "    else:\n",
    "        predictions = {}\n",
    "        meta_predictions = {}\n",
    "        \n",
    "        for example in tqdm(examples):\n",
    "            # retrieve top N relevant documents from retriever\n",
    "            reader_results = query(prediction_function, \n",
    "                                   example.question_text, \n",
    "                                   index_name, \n",
    "                                   topk\n",
    "                                   )\n",
    "            # add best answer to predictions\n",
    "            answers = reader_results['answers']\n",
    "            predictions[example.qas_id] = answers[0]['answer_text']\n",
    "\n",
    "            # for debugging/explainability - save the full answer \n",
    "            # (not just text answer from top hit)\n",
    "            meta_predictions[example.qas_id] = answers\n",
    "\n",
    "        if save_output:\n",
    "            pickle.dump(predictions, open(outfile, \"wb\"))\n",
    "\n",
    "            meta_outfile = os.path.splitext(outfile)[0]+\"_meta.pkl\"\n",
    "            pickle.dump(meta_predictions, open(meta_outfile, \"wb\"))\n",
    "        \n",
    "    # compute evaluation with HF \n",
    "    results = squad_evaluate(examples, predictions)\n",
    "    return results\n",
    "\n",
    "def evaluate_qasystem_recallstyle(\n",
    "                      predition_function,\n",
    "                      examples, \n",
    "                      index_name, \n",
    "                      topk, \n",
    "                      output_path='data/',\n",
    "                      save_output=True \n",
    "                      ):\n",
    "    \"\"\"\n",
    "    Recall-style evaluation computes the % of all examples that contain the \n",
    "    correct answer in at least one of the documents. No prediction output is \n",
    "    saved in this version because I got tired. \n",
    "\n",
    "    This version only computes Exact Match because it's really hard to determine\n",
    "    whether the correct answer is within the top k answers when computing F1 \n",
    "    which is continuous between 0 and 1. \n",
    "    \n",
    "    Inputs\n",
    "        prediction_function: either reader.predict or reader.predict_combine\n",
    "        examples: list, the SQuAD2.0 dev set as loaded by the squad processors\n",
    "        index_name: str, name of the index in ElasticSearch\n",
    "        topk: int, number of documents to retrieve\n",
    "    \n",
    "    Outputs   \n",
    "        Returns\n",
    "        results: OrderedDict of exact match results\n",
    "    \"\"\"\n",
    "\n",
    "    qas_id_to_has_answer = {example.qas_id: bool(example.answers) for example in examples}\n",
    "    has_answer_qids = [qas_id for qas_id, has_answer in qas_id_to_has_answer.items() if has_answer]\n",
    "    no_answer_qids = [qas_id for qas_id, has_answer in qas_id_to_has_answer.items() if not has_answer]\n",
    "\n",
    "    has_correct_answer = {}\n",
    "    for example in tqdm(examples):\n",
    "        # retrieve top N relevant documents from retriever\n",
    "        reader_results = query(prediction_function, \n",
    "                               example.question_text, \n",
    "                               index_name, \n",
    "                               topk\n",
    "                               )\n",
    "\n",
    "        # pull up all gold answers for this example\n",
    "        qas_id = example.qas_id\n",
    "        gold_answers = [answer[\"text\"] for answer in example.answers if normalize_answer(answer[\"text\"])]\n",
    "\n",
    "        if not gold_answers:\n",
    "            # For unanswerable questions, only correct answer is empty string\n",
    "            gold_answers = [\"\"]\n",
    "\n",
    "        # check if any of the gold answers is contained in any of the current predictions \n",
    "        exact_scores = []\n",
    "        predictions = reader_results['answers']\n",
    "        for prediction in predictions:\n",
    "            exact_scores.append(max(compute_exact(a, prediction['answer_text']) for a in gold_answers))\n",
    "        \n",
    "        has_correct_answer[qas_id] = int(any(exact_scores))\n",
    "\n",
    "    evaluation = make_eval_dict(has_correct_answer)\n",
    "\n",
    "    if has_answer_qids:\n",
    "        has_ans_eval = make_eval_dict(has_correct_answer, qid_list=has_answer_qids)\n",
    "        merge_eval(evaluation, has_ans_eval, \"HasAns\")\n",
    "\n",
    "    if no_answer_qids:\n",
    "        no_ans_eval = make_eval_dict(has_correct_answer, qid_list=no_answer_qids)\n",
    "        merge_eval(evaluation, no_ans_eval, \"NoAns\")\n",
    "\n",
    "    return evaluation"
   ]
  },
  {
   "cell_type": "code",
   "execution_count": null,
   "metadata": {},
   "outputs": [],
   "source": [
    "# hide\n",
    "\n",
    "# supporting functions for the evaluation functions above\n",
    "import collections\n",
    "def merge_eval(main_eval, new_eval, prefix):\n",
    "    for k in new_eval:\n",
    "        main_eval[\"%s_%s\" % (prefix, k)] = new_eval[k]\n",
    "\n",
    "def make_eval_dict(exact_scores, qid_list=None):\n",
    "    if not qid_list:\n",
    "        total = len(exact_scores)\n",
    "        return collections.OrderedDict(\n",
    "            [\n",
    "                (\"exact\", 100.0 * sum(exact_scores.values()) / total),\n",
    "                (\"total\", total),\n",
    "            ]\n",
    "        )\n",
    "    else:\n",
    "        total = len(qid_list)\n",
    "        return collections.OrderedDict(\n",
    "            [\n",
    "                (\"exact\", 100.0 * sum(exact_scores[k] for k in qid_list) / total),\n",
    "                (\"total\", total),\n",
    "            ]\n",
    "        )"
   ]
  },
  {
   "cell_type": "code",
   "execution_count": null,
   "metadata": {},
   "outputs": [],
   "source": [
    "# hide\n",
    "\n",
    "# Experiment 1: Compute evaluation over top k = 1 to 5 using the method in which\n",
    "# documents are passed invidivudally to the reader and a heuristic applied to the results\n",
    "all_results = []\n",
    "for i in range(1,6):\n",
    "  results = evaluate_qasystem_squadstyle(reader.predict,\n",
    "                                         examples[:1000], \n",
    "                                         index_name='squad-stop-stem-index', \n",
    "                                         topk=i, \n",
    "                                         output_path='data/individual_results/'\n",
    "                                         )\n",
    "  results['topk'] = i\n",
    "  all_results.append(results)\n",
    "\n",
    "pickle.dump(all_results, open(\"qa_eval_1000squad_individual.pkl\", \"wb\"))"
   ]
  },
  {
   "cell_type": "code",
   "execution_count": null,
   "metadata": {},
   "outputs": [],
   "source": [
    "# hide\n",
    "\n",
    "# Experiment 2: Compute evaluation over top k = 1 to 5 using the method in which\n",
    "# documents concatenated and passed the reader all at once\n",
    "all_results = []\n",
    "for i in range(1,6):\n",
    "  results = evaluate_qasystem_squadstyle(reader.predict_combined,\n",
    "                                         examples[:1000], \n",
    "                                         index_name='squad-stop-stem-index', \n",
    "                                         topk=i, \n",
    "                                         output_path='data/combined_results/'\n",
    "                                         )\n",
    "  results['topk'] = i\n",
    "  all_results.append(results)\n",
    "\n",
    "pickle.dump(all_results, open(\"qa_eval_1000squad_combined.pkl\", \"wb\"))"
   ]
  },
  {
   "cell_type": "code",
   "execution_count": null,
   "metadata": {},
   "outputs": [],
   "source": [
    "# hide\n",
    "\n",
    "# Experiment 3: Compute recall-style evaluation over top k = 1 to 5 using the\n",
    "# \"individual\" method \n",
    "all_results = []\n",
    "for i in range(1,6):\n",
    "  results = evaluate_qasystem_recallstyle(reader.predict,\n",
    "                                          examples[:1000], \n",
    "                                          index_name='squad-stop-stem-index', \n",
    "                                          topk=i\n",
    "                                          )\n",
    "  results['topk'] = i\n",
    "  all_results.append(results)\n",
    "\n",
    "pickle.dump(all_results, open(\"qa_eval_1000squad_topkEM.pkl\", \"wb\"))"
   ]
  },
  {
   "cell_type": "markdown",
   "metadata": {
    "colab_type": "text",
    "id": "BrTUcbUkQonx"
   },
   "source": [
    "Running the cell below requires a gpu so execute with caution or Colab. Evaluation over the top 1 retrieved documents takes about 35 minutes to run. "
   ]
  },
  {
   "cell_type": "code",
   "execution_count": 104,
   "metadata": {
    "colab": {
     "base_uri": "https://localhost:8080/",
     "height": 287,
     "referenced_widgets": [
      "66e0efa9685248629e009c1e255bff6e",
      "f0858954bbfd447eb95a04a3caabf8a4",
      "f6c75626f2d54bfbaa7bad761af5b9c2",
      "62fb51c849b04bc78c629dd42f811deb",
      "26b9259fecf4445b8fdcb753ed6d09ef",
      "e91c7ba9a6314f0d905d08d0f822cbc1",
      "3d3ce5e897b84a218237582372bca2bb",
      "0f9413092ffe496d8f31c374732e870d"
     ]
    },
    "colab_type": "code",
    "id": "Eaiz_d3eDTkR",
    "outputId": "778f92a4-3c0c-4ffd-afc5-be2621cf8b1c"
   },
   "outputs": [
    {
     "data": {
      "application/vnd.jupyter.widget-view+json": {
       "model_id": "66e0efa9685248629e009c1e255bff6e",
       "version_major": 2,
       "version_minor": 0
      },
      "text/plain": [
       "HBox(children=(FloatProgress(value=0.0, max=11873.0), HTML(value='')))"
      ]
     },
     "metadata": {
      "tags": []
     },
     "output_type": "display_data"
    },
    {
     "name": "stdout",
     "output_type": "stream",
     "text": [
      "\n"
     ]
    },
    {
     "data": {
      "text/plain": [
       "OrderedDict([('exact', 57.16331171565737),\n",
       "             ('f1', 60.41835572408481),\n",
       "             ('total', 11873),\n",
       "             ('HasAns_exact', 50.64102564102564),\n",
       "             ('HasAns_f1', 57.16044829825517),\n",
       "             ('HasAns_total', 5928),\n",
       "             ('NoAns_exact', 63.666947014297726),\n",
       "             ('NoAns_f1', 63.666947014297726),\n",
       "             ('NoAns_total', 5945),\n",
       "             ('best_exact', 57.16331171565737),\n",
       "             ('best_exact_thresh', 0.0),\n",
       "             ('best_f1', 60.41835572408505),\n",
       "             ('best_f1_thresh', 0.0)])"
      ]
     },
     "execution_count": 104,
     "metadata": {
      "tags": []
     },
     "output_type": "execute_result"
    }
   ],
   "source": [
    "# hide\n",
    "\n",
    "# Experiment 4: Full squad-style evaluation\n",
    "# Running the cell below requires a gpu so execute with caution or Colab. \n",
    "# Evaluation over the top 1 retrieved documents takes about 35 minutes to run.\n",
    "\n",
    "full_squad_eval_results = evaluate_qasystem_squadstyle(reader.predict,\n",
    "                                                       examples, \n",
    "                                                       index_name='squad-stop-stem-index', \n",
    "                                                       topk=1\n",
    "                                                       )\n",
    "full_squad_eval_results"
   ]
  },
  {
   "cell_type": "code",
   "execution_count": 105,
   "metadata": {
    "colab": {
     "base_uri": "https://localhost:8080/",
     "height": 287,
     "referenced_widgets": [
      "be3cf3e6c6ba40d087f8dd27dd4f5e64",
      "d193d10e1ad94119a849d123c093f3cc",
      "705fa1214c044cbcae6f5d109b22802d",
      "3c0ffe3eeca741899ddbe1306e60ce39",
      "e30ff795eb1c4016be3967f190764399",
      "f04b80c35efb44b5bec078f4d7a57f3b",
      "7a1bbfb20bd84d4b8995584a37dabae1",
      "26ef4a7e1f76465ead7e51c1d9866c6f"
     ]
    },
    "colab_type": "code",
    "id": "Uv7CAhHuYbWw",
    "outputId": "128381b6-e6a1-4bd4-9f6f-133a38649b37"
   },
   "outputs": [
    {
     "data": {
      "application/vnd.jupyter.widget-view+json": {
       "model_id": "be3cf3e6c6ba40d087f8dd27dd4f5e64",
       "version_major": 2,
       "version_minor": 0
      },
      "text/plain": [
       "HBox(children=(FloatProgress(value=0.0, max=11873.0), HTML(value='')))"
      ]
     },
     "metadata": {
      "tags": []
     },
     "output_type": "display_data"
    },
    {
     "name": "stdout",
     "output_type": "stream",
     "text": [
      "\n"
     ]
    },
    {
     "data": {
      "text/plain": [
       "OrderedDict([('exact', 39.15606839046576),\n",
       "             ('f1', 42.27172639000713),\n",
       "             ('total', 11873),\n",
       "             ('HasAns_exact', 49.42645074224021),\n",
       "             ('HasAns_f1', 55.666701657988256),\n",
       "             ('HasAns_total', 5928),\n",
       "             ('NoAns_exact', 28.915054667788056),\n",
       "             ('NoAns_f1', 28.915054667788056),\n",
       "             ('NoAns_total', 5945),\n",
       "             ('best_exact', 50.08843594710688),\n",
       "             ('best_exact_thresh', 0.0),\n",
       "             ('best_f1', 50.09054156489514),\n",
       "             ('best_f1_thresh', 0.0)])"
      ]
     },
     "execution_count": 105,
     "metadata": {
      "tags": []
     },
     "output_type": "execute_result"
    }
   ],
   "source": [
    "# hide\n",
    "evaluate_qasystem(examples, index_name='squad-stop-stem-index', topk=5)"
   ]
  },
  {
   "cell_type": "code",
   "execution_count": null,
   "metadata": {},
   "outputs": [],
   "source": [
    "# hide\n",
    "import pandas as pd\n",
    "import matplotlib.pyplot as plt\n",
    "import seaborn as sns\n",
    "from collections import OrderedDict\n",
    "import numpy as np\n",
    "\n",
    "invidual_top1 = pickle.load(open(\"qa_eval_1000squad_individual.pkl\", \"rb\"))\n",
    "top1_df = pd.DataFrame(data=invidual_top1)\n",
    "\n",
    "individual_top5 = pickle.load(open(\"qa_eval_1000squad_topkEM.pkl\",\"rb\"))\n",
    "top5_df = pd.DataFrame(data=individual_top5)\n",
    "\n",
    "combined_top1 = pickle.load(open(\"qa_eval_1000squad_combined.pkl\",\"rb\"))\n",
    "combo_df = pd.DataFrame(data=combined_top1)\n",
    "\n",
    "width = .25\n",
    "\n",
    "# Compare combined vs individual method for passing to reader\n",
    "plt.figure(figsize=(10,7))\n",
    "plt.bar(combo_df['topk'] - width/2, combo_df['exact'], width=width, label='Concatenated')\n",
    "plt.bar(top1_df['topk'] + width/2, top1_df['exact'], width=width, label='Individual')\n",
    "\n",
    "#plt.text(0, 40, 'No Retriever', rotation=90, ha='center', va='top', color='white', fontsize=18)\n",
    "plt.xticks(top1_df['topk'])\n",
    "plt.legend(fontsize=16, frameon=False)\n",
    "\n",
    "plt.ylabel('Exact Match Score', fontsize=16)\n",
    "plt.xlabel('Top k retrieved documents', fontsize=16)\n",
    "plt.title(\"Concatenated vs Individual Eval for 1000 SQuAD2.0 examples\", fontsize=18)\n",
    "\n",
    "plt.savefig('qa_eval_combined_vs_individual.png')\n",
    "\n",
    "# Compare Top 1 vs ANY Top k eval methods\n",
    "plt.figure(figsize=(10,7))\n",
    "plt.bar(combo_df['topk'] - width/2, combo_df['exact'], width=width, label='Top 1')\n",
    "plt.bar(top5_df['topk'] + width/2, top5_df['exact'], width=width, label='Top k')\n",
    "\n",
    "plt.xticks(top5_df['topk'])\n",
    "plt.legend(fontsize=16, frameon=False)\n",
    "\n",
    "plt.ylabel('Exact Match Score', fontsize=16)\n",
    "plt.xlabel('Top k retrieved documents', fontsize=16)\n",
    "plt.title(\"Answer in Top 1 vs. any of Top k for 1000 SQuAD2.0 examples\", fontsize=18)\n",
    "\n",
    "plt.savefig('qa_eval_top1_vs_any_topk.png')"
   ]
  }
 ],
 "metadata": {
  "accelerator": "GPU",
  "colab": {
   "collapsed_sections": [
    "In0YUapuBQ8A",
    "pKVJVU5hBQ8U",
    "t4s4Bx3LBQ8p"
   ],
   "machine_shape": "hm",
   "name": "2020-06-09-Evaluating_BERT_on_SQuAD.ipynb",
   "provenance": []
  },
  "kernelspec": {
   "display_name": "Python 3",
   "language": "python",
   "name": "python3"
  },
  "language_info": {
   "codemirror_mode": {
    "name": "ipython",
    "version": 3
   },
   "file_extension": ".py",
   "mimetype": "text/x-python",
   "name": "python",
   "nbconvert_exporter": "python",
   "pygments_lexer": "ipython3",
   "version": "3.7.4"
  },
  "widgets": {
   "application/vnd.jupyter.widget-state+json": {
    "0f9413092ffe496d8f31c374732e870d": {
     "model_module": "@jupyter-widgets/base",
     "model_name": "LayoutModel",
     "state": {
      "_model_module": "@jupyter-widgets/base",
      "_model_module_version": "1.2.0",
      "_model_name": "LayoutModel",
      "_view_count": null,
      "_view_module": "@jupyter-widgets/base",
      "_view_module_version": "1.2.0",
      "_view_name": "LayoutView",
      "align_content": null,
      "align_items": null,
      "align_self": null,
      "border": null,
      "bottom": null,
      "display": null,
      "flex": null,
      "flex_flow": null,
      "grid_area": null,
      "grid_auto_columns": null,
      "grid_auto_flow": null,
      "grid_auto_rows": null,
      "grid_column": null,
      "grid_gap": null,
      "grid_row": null,
      "grid_template_areas": null,
      "grid_template_columns": null,
      "grid_template_rows": null,
      "height": null,
      "justify_content": null,
      "justify_items": null,
      "left": null,
      "margin": null,
      "max_height": null,
      "max_width": null,
      "min_height": null,
      "min_width": null,
      "object_fit": null,
      "object_position": null,
      "order": null,
      "overflow": null,
      "overflow_x": null,
      "overflow_y": null,
      "padding": null,
      "right": null,
      "top": null,
      "visibility": null,
      "width": null
     }
    },
    "139cd5c5c43f436495dfddbdfc7d35c3": {
     "model_module": "@jupyter-widgets/controls",
     "model_name": "DescriptionStyleModel",
     "state": {
      "_model_module": "@jupyter-widgets/controls",
      "_model_module_version": "1.5.0",
      "_model_name": "DescriptionStyleModel",
      "_view_count": null,
      "_view_module": "@jupyter-widgets/base",
      "_view_module_version": "1.2.0",
      "_view_name": "StyleView",
      "description_width": ""
     }
    },
    "15f44b8cf87d459bb6a40b5e6b9db470": {
     "model_module": "@jupyter-widgets/base",
     "model_name": "LayoutModel",
     "state": {
      "_model_module": "@jupyter-widgets/base",
      "_model_module_version": "1.2.0",
      "_model_name": "LayoutModel",
      "_view_count": null,
      "_view_module": "@jupyter-widgets/base",
      "_view_module_version": "1.2.0",
      "_view_name": "LayoutView",
      "align_content": null,
      "align_items": null,
      "align_self": null,
      "border": null,
      "bottom": null,
      "display": null,
      "flex": null,
      "flex_flow": null,
      "grid_area": null,
      "grid_auto_columns": null,
      "grid_auto_flow": null,
      "grid_auto_rows": null,
      "grid_column": null,
      "grid_gap": null,
      "grid_row": null,
      "grid_template_areas": null,
      "grid_template_columns": null,
      "grid_template_rows": null,
      "height": null,
      "justify_content": null,
      "justify_items": null,
      "left": null,
      "margin": null,
      "max_height": null,
      "max_width": null,
      "min_height": null,
      "min_width": null,
      "object_fit": null,
      "object_position": null,
      "order": null,
      "overflow": null,
      "overflow_x": null,
      "overflow_y": null,
      "padding": null,
      "right": null,
      "top": null,
      "visibility": null,
      "width": null
     }
    },
    "26b9259fecf4445b8fdcb753ed6d09ef": {
     "model_module": "@jupyter-widgets/controls",
     "model_name": "ProgressStyleModel",
     "state": {
      "_model_module": "@jupyter-widgets/controls",
      "_model_module_version": "1.5.0",
      "_model_name": "ProgressStyleModel",
      "_view_count": null,
      "_view_module": "@jupyter-widgets/base",
      "_view_module_version": "1.2.0",
      "_view_name": "StyleView",
      "bar_color": null,
      "description_width": "initial"
     }
    },
    "26ef4a7e1f76465ead7e51c1d9866c6f": {
     "model_module": "@jupyter-widgets/base",
     "model_name": "LayoutModel",
     "state": {
      "_model_module": "@jupyter-widgets/base",
      "_model_module_version": "1.2.0",
      "_model_name": "LayoutModel",
      "_view_count": null,
      "_view_module": "@jupyter-widgets/base",
      "_view_module_version": "1.2.0",
      "_view_name": "LayoutView",
      "align_content": null,
      "align_items": null,
      "align_self": null,
      "border": null,
      "bottom": null,
      "display": null,
      "flex": null,
      "flex_flow": null,
      "grid_area": null,
      "grid_auto_columns": null,
      "grid_auto_flow": null,
      "grid_auto_rows": null,
      "grid_column": null,
      "grid_gap": null,
      "grid_row": null,
      "grid_template_areas": null,
      "grid_template_columns": null,
      "grid_template_rows": null,
      "height": null,
      "justify_content": null,
      "justify_items": null,
      "left": null,
      "margin": null,
      "max_height": null,
      "max_width": null,
      "min_height": null,
      "min_width": null,
      "object_fit": null,
      "object_position": null,
      "order": null,
      "overflow": null,
      "overflow_x": null,
      "overflow_y": null,
      "padding": null,
      "right": null,
      "top": null,
      "visibility": null,
      "width": null
     }
    },
    "28a305d13e584615b9ba3cd9a37bdd56": {
     "model_module": "@jupyter-widgets/controls",
     "model_name": "FloatProgressModel",
     "state": {
      "_dom_classes": [],
      "_model_module": "@jupyter-widgets/controls",
      "_model_module_version": "1.5.0",
      "_model_name": "FloatProgressModel",
      "_view_count": null,
      "_view_module": "@jupyter-widgets/controls",
      "_view_module_version": "1.5.0",
      "_view_name": "ProgressView",
      "bar_style": "success",
      "description": "100%",
      "description_tooltip": null,
      "layout": "IPY_MODEL_a8cebe4ccf004d84bdc37ce44d1192e8",
      "max": 20239,
      "min": 0,
      "orientation": "horizontal",
      "style": "IPY_MODEL_a44c2693aee14b89a4c6512c85142f51",
      "value": 20239
     }
    },
    "3c0ffe3eeca741899ddbe1306e60ce39": {
     "model_module": "@jupyter-widgets/controls",
     "model_name": "HTMLModel",
     "state": {
      "_dom_classes": [],
      "_model_module": "@jupyter-widgets/controls",
      "_model_module_version": "1.5.0",
      "_model_name": "HTMLModel",
      "_view_count": null,
      "_view_module": "@jupyter-widgets/controls",
      "_view_module_version": "1.5.0",
      "_view_name": "HTMLView",
      "description": "",
      "description_tooltip": null,
      "layout": "IPY_MODEL_26ef4a7e1f76465ead7e51c1d9866c6f",
      "placeholder": "​",
      "style": "IPY_MODEL_7a1bbfb20bd84d4b8995584a37dabae1",
      "value": " 11873/11873 [6:21:18&lt;00:00,  1.93s/it]"
     }
    },
    "3d3ce5e897b84a218237582372bca2bb": {
     "model_module": "@jupyter-widgets/controls",
     "model_name": "DescriptionStyleModel",
     "state": {
      "_model_module": "@jupyter-widgets/controls",
      "_model_module_version": "1.5.0",
      "_model_name": "DescriptionStyleModel",
      "_view_count": null,
      "_view_module": "@jupyter-widgets/base",
      "_view_module_version": "1.2.0",
      "_view_name": "StyleView",
      "description_width": ""
     }
    },
    "40b3ea36c5ca407597e8ce6c738c9786": {
     "model_module": "@jupyter-widgets/controls",
     "model_name": "ProgressStyleModel",
     "state": {
      "_model_module": "@jupyter-widgets/controls",
      "_model_module_version": "1.5.0",
      "_model_name": "ProgressStyleModel",
      "_view_count": null,
      "_view_module": "@jupyter-widgets/base",
      "_view_module_version": "1.2.0",
      "_view_name": "StyleView",
      "bar_color": null,
      "description_width": "initial"
     }
    },
    "62fb51c849b04bc78c629dd42f811deb": {
     "model_module": "@jupyter-widgets/controls",
     "model_name": "HTMLModel",
     "state": {
      "_dom_classes": [],
      "_model_module": "@jupyter-widgets/controls",
      "_model_module_version": "1.5.0",
      "_model_name": "HTMLModel",
      "_view_count": null,
      "_view_module": "@jupyter-widgets/controls",
      "_view_module_version": "1.5.0",
      "_view_name": "HTMLView",
      "description": "",
      "description_tooltip": null,
      "layout": "IPY_MODEL_0f9413092ffe496d8f31c374732e870d",
      "placeholder": "​",
      "style": "IPY_MODEL_3d3ce5e897b84a218237582372bca2bb",
      "value": " 11873/11873 [7:01:01&lt;00:00,  2.13s/it]"
     }
    },
    "66e0efa9685248629e009c1e255bff6e": {
     "model_module": "@jupyter-widgets/controls",
     "model_name": "HBoxModel",
     "state": {
      "_dom_classes": [],
      "_model_module": "@jupyter-widgets/controls",
      "_model_module_version": "1.5.0",
      "_model_name": "HBoxModel",
      "_view_count": null,
      "_view_module": "@jupyter-widgets/controls",
      "_view_module_version": "1.5.0",
      "_view_name": "HBoxView",
      "box_style": "",
      "children": [
       "IPY_MODEL_f6c75626f2d54bfbaa7bad761af5b9c2",
       "IPY_MODEL_62fb51c849b04bc78c629dd42f811deb"
      ],
      "layout": "IPY_MODEL_f0858954bbfd447eb95a04a3caabf8a4"
     }
    },
    "705fa1214c044cbcae6f5d109b22802d": {
     "model_module": "@jupyter-widgets/controls",
     "model_name": "FloatProgressModel",
     "state": {
      "_dom_classes": [],
      "_model_module": "@jupyter-widgets/controls",
      "_model_module_version": "1.5.0",
      "_model_name": "FloatProgressModel",
      "_view_count": null,
      "_view_module": "@jupyter-widgets/controls",
      "_view_module_version": "1.5.0",
      "_view_name": "ProgressView",
      "bar_style": "success",
      "description": "100%",
      "description_tooltip": null,
      "layout": "IPY_MODEL_f04b80c35efb44b5bec078f4d7a57f3b",
      "max": 11873,
      "min": 0,
      "orientation": "horizontal",
      "style": "IPY_MODEL_e30ff795eb1c4016be3967f190764399",
      "value": 11873
     }
    },
    "7a1bbfb20bd84d4b8995584a37dabae1": {
     "model_module": "@jupyter-widgets/controls",
     "model_name": "DescriptionStyleModel",
     "state": {
      "_model_module": "@jupyter-widgets/controls",
      "_model_module_version": "1.5.0",
      "_model_name": "DescriptionStyleModel",
      "_view_count": null,
      "_view_module": "@jupyter-widgets/base",
      "_view_module_version": "1.2.0",
      "_view_name": "StyleView",
      "description_width": ""
     }
    },
    "9061d4497e4443029cbb21b77281cf31": {
     "model_module": "@jupyter-widgets/base",
     "model_name": "LayoutModel",
     "state": {
      "_model_module": "@jupyter-widgets/base",
      "_model_module_version": "1.2.0",
      "_model_name": "LayoutModel",
      "_view_count": null,
      "_view_module": "@jupyter-widgets/base",
      "_view_module_version": "1.2.0",
      "_view_name": "LayoutView",
      "align_content": null,
      "align_items": null,
      "align_self": null,
      "border": null,
      "bottom": null,
      "display": null,
      "flex": null,
      "flex_flow": null,
      "grid_area": null,
      "grid_auto_columns": null,
      "grid_auto_flow": null,
      "grid_auto_rows": null,
      "grid_column": null,
      "grid_gap": null,
      "grid_row": null,
      "grid_template_areas": null,
      "grid_template_columns": null,
      "grid_template_rows": null,
      "height": null,
      "justify_content": null,
      "justify_items": null,
      "left": null,
      "margin": null,
      "max_height": null,
      "max_width": null,
      "min_height": null,
      "min_width": null,
      "object_fit": null,
      "object_position": null,
      "order": null,
      "overflow": null,
      "overflow_x": null,
      "overflow_y": null,
      "padding": null,
      "right": null,
      "top": null,
      "visibility": null,
      "width": null
     }
    },
    "95923a713e324d18bc9fc82a466703c4": {
     "model_module": "@jupyter-widgets/controls",
     "model_name": "HTMLModel",
     "state": {
      "_dom_classes": [],
      "_model_module": "@jupyter-widgets/controls",
      "_model_module_version": "1.5.0",
      "_model_name": "HTMLModel",
      "_view_count": null,
      "_view_module": "@jupyter-widgets/controls",
      "_view_module_version": "1.5.0",
      "_view_name": "HTMLView",
      "description": "",
      "description_tooltip": null,
      "layout": "IPY_MODEL_ef2c1a3506c549b7878e3ea4a5cc565f",
      "placeholder": "​",
      "style": "IPY_MODEL_139cd5c5c43f436495dfddbdfc7d35c3",
      "value": " 20239/20239 [02:38&lt;00:00, 127.56it/s]"
     }
    },
    "a299f8fa902348b7807b4d97ebc6027d": {
     "model_module": "@jupyter-widgets/controls",
     "model_name": "HTMLModel",
     "state": {
      "_dom_classes": [],
      "_model_module": "@jupyter-widgets/controls",
      "_model_module_version": "1.5.0",
      "_model_name": "HTMLModel",
      "_view_count": null,
      "_view_module": "@jupyter-widgets/controls",
      "_view_module_version": "1.5.0",
      "_view_name": "HTMLView",
      "description": "",
      "description_tooltip": null,
      "layout": "IPY_MODEL_dca5b0a8c1014a66bc8c5ba988878a85",
      "placeholder": "​",
      "style": "IPY_MODEL_b04d963baf9a40789305d1372ffe1aab",
      "value": " 20239/20239 [04:14&lt;00:00, 79.57it/s]"
     }
    },
    "a44c2693aee14b89a4c6512c85142f51": {
     "model_module": "@jupyter-widgets/controls",
     "model_name": "ProgressStyleModel",
     "state": {
      "_model_module": "@jupyter-widgets/controls",
      "_model_module_version": "1.5.0",
      "_model_name": "ProgressStyleModel",
      "_view_count": null,
      "_view_module": "@jupyter-widgets/base",
      "_view_module_version": "1.2.0",
      "_view_name": "StyleView",
      "bar_color": null,
      "description_width": "initial"
     }
    },
    "a493a4c07a2743899571330cf6476b74": {
     "model_module": "@jupyter-widgets/controls",
     "model_name": "HBoxModel",
     "state": {
      "_dom_classes": [],
      "_model_module": "@jupyter-widgets/controls",
      "_model_module_version": "1.5.0",
      "_model_name": "HBoxModel",
      "_view_count": null,
      "_view_module": "@jupyter-widgets/controls",
      "_view_module_version": "1.5.0",
      "_view_name": "HBoxView",
      "box_style": "",
      "children": [
       "IPY_MODEL_28a305d13e584615b9ba3cd9a37bdd56",
       "IPY_MODEL_a299f8fa902348b7807b4d97ebc6027d"
      ],
      "layout": "IPY_MODEL_e94a6f98578743c096c9b045d9dfdf81"
     }
    },
    "a8cebe4ccf004d84bdc37ce44d1192e8": {
     "model_module": "@jupyter-widgets/base",
     "model_name": "LayoutModel",
     "state": {
      "_model_module": "@jupyter-widgets/base",
      "_model_module_version": "1.2.0",
      "_model_name": "LayoutModel",
      "_view_count": null,
      "_view_module": "@jupyter-widgets/base",
      "_view_module_version": "1.2.0",
      "_view_name": "LayoutView",
      "align_content": null,
      "align_items": null,
      "align_self": null,
      "border": null,
      "bottom": null,
      "display": null,
      "flex": null,
      "flex_flow": null,
      "grid_area": null,
      "grid_auto_columns": null,
      "grid_auto_flow": null,
      "grid_auto_rows": null,
      "grid_column": null,
      "grid_gap": null,
      "grid_row": null,
      "grid_template_areas": null,
      "grid_template_columns": null,
      "grid_template_rows": null,
      "height": null,
      "justify_content": null,
      "justify_items": null,
      "left": null,
      "margin": null,
      "max_height": null,
      "max_width": null,
      "min_height": null,
      "min_width": null,
      "object_fit": null,
      "object_position": null,
      "order": null,
      "overflow": null,
      "overflow_x": null,
      "overflow_y": null,
      "padding": null,
      "right": null,
      "top": null,
      "visibility": null,
      "width": null
     }
    },
    "b04d963baf9a40789305d1372ffe1aab": {
     "model_module": "@jupyter-widgets/controls",
     "model_name": "DescriptionStyleModel",
     "state": {
      "_model_module": "@jupyter-widgets/controls",
      "_model_module_version": "1.5.0",
      "_model_name": "DescriptionStyleModel",
      "_view_count": null,
      "_view_module": "@jupyter-widgets/base",
      "_view_module_version": "1.2.0",
      "_view_name": "StyleView",
      "description_width": ""
     }
    },
    "be3cf3e6c6ba40d087f8dd27dd4f5e64": {
     "model_module": "@jupyter-widgets/controls",
     "model_name": "HBoxModel",
     "state": {
      "_dom_classes": [],
      "_model_module": "@jupyter-widgets/controls",
      "_model_module_version": "1.5.0",
      "_model_name": "HBoxModel",
      "_view_count": null,
      "_view_module": "@jupyter-widgets/controls",
      "_view_module_version": "1.5.0",
      "_view_name": "HBoxView",
      "box_style": "",
      "children": [
       "IPY_MODEL_705fa1214c044cbcae6f5d109b22802d",
       "IPY_MODEL_3c0ffe3eeca741899ddbe1306e60ce39"
      ],
      "layout": "IPY_MODEL_d193d10e1ad94119a849d123c093f3cc"
     }
    },
    "d193d10e1ad94119a849d123c093f3cc": {
     "model_module": "@jupyter-widgets/base",
     "model_name": "LayoutModel",
     "state": {
      "_model_module": "@jupyter-widgets/base",
      "_model_module_version": "1.2.0",
      "_model_name": "LayoutModel",
      "_view_count": null,
      "_view_module": "@jupyter-widgets/base",
      "_view_module_version": "1.2.0",
      "_view_name": "LayoutView",
      "align_content": null,
      "align_items": null,
      "align_self": null,
      "border": null,
      "bottom": null,
      "display": null,
      "flex": null,
      "flex_flow": null,
      "grid_area": null,
      "grid_auto_columns": null,
      "grid_auto_flow": null,
      "grid_auto_rows": null,
      "grid_column": null,
      "grid_gap": null,
      "grid_row": null,
      "grid_template_areas": null,
      "grid_template_columns": null,
      "grid_template_rows": null,
      "height": null,
      "justify_content": null,
      "justify_items": null,
      "left": null,
      "margin": null,
      "max_height": null,
      "max_width": null,
      "min_height": null,
      "min_width": null,
      "object_fit": null,
      "object_position": null,
      "order": null,
      "overflow": null,
      "overflow_x": null,
      "overflow_y": null,
      "padding": null,
      "right": null,
      "top": null,
      "visibility": null,
      "width": null
     }
    },
    "dca5b0a8c1014a66bc8c5ba988878a85": {
     "model_module": "@jupyter-widgets/base",
     "model_name": "LayoutModel",
     "state": {
      "_model_module": "@jupyter-widgets/base",
      "_model_module_version": "1.2.0",
      "_model_name": "LayoutModel",
      "_view_count": null,
      "_view_module": "@jupyter-widgets/base",
      "_view_module_version": "1.2.0",
      "_view_name": "LayoutView",
      "align_content": null,
      "align_items": null,
      "align_self": null,
      "border": null,
      "bottom": null,
      "display": null,
      "flex": null,
      "flex_flow": null,
      "grid_area": null,
      "grid_auto_columns": null,
      "grid_auto_flow": null,
      "grid_auto_rows": null,
      "grid_column": null,
      "grid_gap": null,
      "grid_row": null,
      "grid_template_areas": null,
      "grid_template_columns": null,
      "grid_template_rows": null,
      "height": null,
      "justify_content": null,
      "justify_items": null,
      "left": null,
      "margin": null,
      "max_height": null,
      "max_width": null,
      "min_height": null,
      "min_width": null,
      "object_fit": null,
      "object_position": null,
      "order": null,
      "overflow": null,
      "overflow_x": null,
      "overflow_y": null,
      "padding": null,
      "right": null,
      "top": null,
      "visibility": null,
      "width": null
     }
    },
    "e30ff795eb1c4016be3967f190764399": {
     "model_module": "@jupyter-widgets/controls",
     "model_name": "ProgressStyleModel",
     "state": {
      "_model_module": "@jupyter-widgets/controls",
      "_model_module_version": "1.5.0",
      "_model_name": "ProgressStyleModel",
      "_view_count": null,
      "_view_module": "@jupyter-widgets/base",
      "_view_module_version": "1.2.0",
      "_view_name": "StyleView",
      "bar_color": null,
      "description_width": "initial"
     }
    },
    "e91c7ba9a6314f0d905d08d0f822cbc1": {
     "model_module": "@jupyter-widgets/base",
     "model_name": "LayoutModel",
     "state": {
      "_model_module": "@jupyter-widgets/base",
      "_model_module_version": "1.2.0",
      "_model_name": "LayoutModel",
      "_view_count": null,
      "_view_module": "@jupyter-widgets/base",
      "_view_module_version": "1.2.0",
      "_view_name": "LayoutView",
      "align_content": null,
      "align_items": null,
      "align_self": null,
      "border": null,
      "bottom": null,
      "display": null,
      "flex": null,
      "flex_flow": null,
      "grid_area": null,
      "grid_auto_columns": null,
      "grid_auto_flow": null,
      "grid_auto_rows": null,
      "grid_column": null,
      "grid_gap": null,
      "grid_row": null,
      "grid_template_areas": null,
      "grid_template_columns": null,
      "grid_template_rows": null,
      "height": null,
      "justify_content": null,
      "justify_items": null,
      "left": null,
      "margin": null,
      "max_height": null,
      "max_width": null,
      "min_height": null,
      "min_width": null,
      "object_fit": null,
      "object_position": null,
      "order": null,
      "overflow": null,
      "overflow_x": null,
      "overflow_y": null,
      "padding": null,
      "right": null,
      "top": null,
      "visibility": null,
      "width": null
     }
    },
    "e94a6f98578743c096c9b045d9dfdf81": {
     "model_module": "@jupyter-widgets/base",
     "model_name": "LayoutModel",
     "state": {
      "_model_module": "@jupyter-widgets/base",
      "_model_module_version": "1.2.0",
      "_model_name": "LayoutModel",
      "_view_count": null,
      "_view_module": "@jupyter-widgets/base",
      "_view_module_version": "1.2.0",
      "_view_name": "LayoutView",
      "align_content": null,
      "align_items": null,
      "align_self": null,
      "border": null,
      "bottom": null,
      "display": null,
      "flex": null,
      "flex_flow": null,
      "grid_area": null,
      "grid_auto_columns": null,
      "grid_auto_flow": null,
      "grid_auto_rows": null,
      "grid_column": null,
      "grid_gap": null,
      "grid_row": null,
      "grid_template_areas": null,
      "grid_template_columns": null,
      "grid_template_rows": null,
      "height": null,
      "justify_content": null,
      "justify_items": null,
      "left": null,
      "margin": null,
      "max_height": null,
      "max_width": null,
      "min_height": null,
      "min_width": null,
      "object_fit": null,
      "object_position": null,
      "order": null,
      "overflow": null,
      "overflow_x": null,
      "overflow_y": null,
      "padding": null,
      "right": null,
      "top": null,
      "visibility": null,
      "width": null
     }
    },
    "ef2c1a3506c549b7878e3ea4a5cc565f": {
     "model_module": "@jupyter-widgets/base",
     "model_name": "LayoutModel",
     "state": {
      "_model_module": "@jupyter-widgets/base",
      "_model_module_version": "1.2.0",
      "_model_name": "LayoutModel",
      "_view_count": null,
      "_view_module": "@jupyter-widgets/base",
      "_view_module_version": "1.2.0",
      "_view_name": "LayoutView",
      "align_content": null,
      "align_items": null,
      "align_self": null,
      "border": null,
      "bottom": null,
      "display": null,
      "flex": null,
      "flex_flow": null,
      "grid_area": null,
      "grid_auto_columns": null,
      "grid_auto_flow": null,
      "grid_auto_rows": null,
      "grid_column": null,
      "grid_gap": null,
      "grid_row": null,
      "grid_template_areas": null,
      "grid_template_columns": null,
      "grid_template_rows": null,
      "height": null,
      "justify_content": null,
      "justify_items": null,
      "left": null,
      "margin": null,
      "max_height": null,
      "max_width": null,
      "min_height": null,
      "min_width": null,
      "object_fit": null,
      "object_position": null,
      "order": null,
      "overflow": null,
      "overflow_x": null,
      "overflow_y": null,
      "padding": null,
      "right": null,
      "top": null,
      "visibility": null,
      "width": null
     }
    },
    "f04b80c35efb44b5bec078f4d7a57f3b": {
     "model_module": "@jupyter-widgets/base",
     "model_name": "LayoutModel",
     "state": {
      "_model_module": "@jupyter-widgets/base",
      "_model_module_version": "1.2.0",
      "_model_name": "LayoutModel",
      "_view_count": null,
      "_view_module": "@jupyter-widgets/base",
      "_view_module_version": "1.2.0",
      "_view_name": "LayoutView",
      "align_content": null,
      "align_items": null,
      "align_self": null,
      "border": null,
      "bottom": null,
      "display": null,
      "flex": null,
      "flex_flow": null,
      "grid_area": null,
      "grid_auto_columns": null,
      "grid_auto_flow": null,
      "grid_auto_rows": null,
      "grid_column": null,
      "grid_gap": null,
      "grid_row": null,
      "grid_template_areas": null,
      "grid_template_columns": null,
      "grid_template_rows": null,
      "height": null,
      "justify_content": null,
      "justify_items": null,
      "left": null,
      "margin": null,
      "max_height": null,
      "max_width": null,
      "min_height": null,
      "min_width": null,
      "object_fit": null,
      "object_position": null,
      "order": null,
      "overflow": null,
      "overflow_x": null,
      "overflow_y": null,
      "padding": null,
      "right": null,
      "top": null,
      "visibility": null,
      "width": null
     }
    },
    "f0858954bbfd447eb95a04a3caabf8a4": {
     "model_module": "@jupyter-widgets/base",
     "model_name": "LayoutModel",
     "state": {
      "_model_module": "@jupyter-widgets/base",
      "_model_module_version": "1.2.0",
      "_model_name": "LayoutModel",
      "_view_count": null,
      "_view_module": "@jupyter-widgets/base",
      "_view_module_version": "1.2.0",
      "_view_name": "LayoutView",
      "align_content": null,
      "align_items": null,
      "align_self": null,
      "border": null,
      "bottom": null,
      "display": null,
      "flex": null,
      "flex_flow": null,
      "grid_area": null,
      "grid_auto_columns": null,
      "grid_auto_flow": null,
      "grid_auto_rows": null,
      "grid_column": null,
      "grid_gap": null,
      "grid_row": null,
      "grid_template_areas": null,
      "grid_template_columns": null,
      "grid_template_rows": null,
      "height": null,
      "justify_content": null,
      "justify_items": null,
      "left": null,
      "margin": null,
      "max_height": null,
      "max_width": null,
      "min_height": null,
      "min_width": null,
      "object_fit": null,
      "object_position": null,
      "order": null,
      "overflow": null,
      "overflow_x": null,
      "overflow_y": null,
      "padding": null,
      "right": null,
      "top": null,
      "visibility": null,
      "width": null
     }
    },
    "f4d90214c67749168472a2ba3cb0d72a": {
     "model_module": "@jupyter-widgets/controls",
     "model_name": "FloatProgressModel",
     "state": {
      "_dom_classes": [],
      "_model_module": "@jupyter-widgets/controls",
      "_model_module_version": "1.5.0",
      "_model_name": "FloatProgressModel",
      "_view_count": null,
      "_view_module": "@jupyter-widgets/controls",
      "_view_module_version": "1.5.0",
      "_view_name": "ProgressView",
      "bar_style": "success",
      "description": "100%",
      "description_tooltip": null,
      "layout": "IPY_MODEL_9061d4497e4443029cbb21b77281cf31",
      "max": 20239,
      "min": 0,
      "orientation": "horizontal",
      "style": "IPY_MODEL_40b3ea36c5ca407597e8ce6c738c9786",
      "value": 20239
     }
    },
    "f6c75626f2d54bfbaa7bad761af5b9c2": {
     "model_module": "@jupyter-widgets/controls",
     "model_name": "FloatProgressModel",
     "state": {
      "_dom_classes": [],
      "_model_module": "@jupyter-widgets/controls",
      "_model_module_version": "1.5.0",
      "_model_name": "FloatProgressModel",
      "_view_count": null,
      "_view_module": "@jupyter-widgets/controls",
      "_view_module_version": "1.5.0",
      "_view_name": "ProgressView",
      "bar_style": "success",
      "description": "100%",
      "description_tooltip": null,
      "layout": "IPY_MODEL_e91c7ba9a6314f0d905d08d0f822cbc1",
      "max": 11873,
      "min": 0,
      "orientation": "horizontal",
      "style": "IPY_MODEL_26b9259fecf4445b8fdcb753ed6d09ef",
      "value": 11873
     }
    },
    "f8d18feb30b24de5bbbb869cc9a31ae8": {
     "model_module": "@jupyter-widgets/controls",
     "model_name": "HBoxModel",
     "state": {
      "_dom_classes": [],
      "_model_module": "@jupyter-widgets/controls",
      "_model_module_version": "1.5.0",
      "_model_name": "HBoxModel",
      "_view_count": null,
      "_view_module": "@jupyter-widgets/controls",
      "_view_module_version": "1.5.0",
      "_view_name": "HBoxView",
      "box_style": "",
      "children": [
       "IPY_MODEL_f4d90214c67749168472a2ba3cb0d72a",
       "IPY_MODEL_95923a713e324d18bc9fc82a466703c4"
      ],
      "layout": "IPY_MODEL_15f44b8cf87d459bb6a40b5e6b9db470"
     }
    }
   }
  }
 },
 "nbformat": 4,
 "nbformat_minor": 1
}
